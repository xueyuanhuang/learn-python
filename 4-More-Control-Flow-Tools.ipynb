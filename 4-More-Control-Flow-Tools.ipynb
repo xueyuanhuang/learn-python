{
 "cells": [
  {
   "cell_type": "markdown",
   "id": "e7238249",
   "metadata": {},
   "source": [
    "## 4.1. if statement"
   ]
  },
  {
   "cell_type": "markdown",
   "id": "39e17580",
   "metadata": {},
   "source": [
    "if, elif, else"
   ]
  },
  {
   "cell_type": "code",
   "execution_count": 18,
   "id": "93d5a4d5",
   "metadata": {},
   "outputs": [
    {
     "name": "stdout",
     "output_type": "stream",
     "text": [
      "please tell my how long you're been single? (just number eg. 25)4\n",
      "do you want to have a girl/boy friend?(y/n)y\n",
      "would you mind tell me your age?5\n",
      "I will help you, but need to charge you a billion, since you been single for long  4 years. There must have some problem with you!\n"
     ]
    }
   ],
   "source": [
    "single_years = int(input(\"please tell my how long you're been single? (just number eg. 25)\"))\n",
    "if x > 0:\n",
    "    willingness = str(input(\"do you want to have a girl/boy friend?(y/n)\"))\n",
    "    age = int(input(\"would you mind tell me your age?\"))\n",
    "    if ((single_years < 3) & (willingness == 'y')):\n",
    "        print(\"I will help you since you just been single for\", single_years, \" years!\")\n",
    "    elif ((single_years > 3) & (willingness == 'n')):\n",
    "        print(\"You don't need my help!\")\n",
    "    elif ((single_years > 3) & (willingness == 'y')):\n",
    "        print(\"I will help you, but need to charge you a billion, since you been single for long \", single_years, \n",
    "              \"years. \"\n",
    "             \"There must have some problem with you!\")\n",
    "    elif ((single_years < 3) & (willingness == 'n')):\n",
    "        print(\"why the heck you just sinle for such short \", single_years, \" years \"\n",
    "             \"since your answer is no???\")"
   ]
  },
  {
   "cell_type": "markdown",
   "id": "6cd69358",
   "metadata": {},
   "source": [
    "# 4.2. for statement"
   ]
  },
  {
   "cell_type": "code",
   "execution_count": 21,
   "id": "5d7ee63f",
   "metadata": {},
   "outputs": [
    {
     "name": "stdout",
     "output_type": "stream",
     "text": [
      "cat 3\n",
      "window 6\n",
      "defenstrate 11\n"
     ]
    }
   ],
   "source": [
    "words = ['cat', 'window', 'defenstrate']\n",
    "\n",
    "for w in words:\n",
    "    print(w, len(w))"
   ]
  },
  {
   "cell_type": "markdown",
   "id": "4ee598dd",
   "metadata": {},
   "source": [
    "modify a collection, it better to iterate over a copy or create a new collection\n",
    "\n",
    "cuz, it will change the content of your collection"
   ]
  },
  {
   "cell_type": "code",
   "execution_count": 27,
   "id": "cd0b011d",
   "metadata": {},
   "outputs": [],
   "source": [
    "life_descriptions = ({'you have a goal for your life': 'positive',\n",
    "                     'you have a beautiful girlfriend': 'positive',\n",
    "                     'live in singapore': 'negative'})\n",
    "\n",
    "for life_description, status in life_descriptions.copy().items():\n",
    "    if status == 'negative':\n",
    "        del life_descriptions[life_description]\n",
    "\n",
    "positive_life_descriptions = {}\n",
    "\n",
    "for life_description, status in life_descriptions.items():\n",
    "    if status == 'positive':\n",
    "        positive_life_descriptions[life_description] = status"
   ]
  },
  {
   "cell_type": "code",
   "execution_count": 28,
   "id": "86f0c1f7",
   "metadata": {},
   "outputs": [
    {
     "data": {
      "text/plain": [
       "{'you have a goal for your life': 'positive',\n",
       " 'you have a beautiful girlfriend': 'positive'}"
      ]
     },
     "execution_count": 28,
     "metadata": {},
     "output_type": "execute_result"
    }
   ],
   "source": [
    "positive_life_descriptions"
   ]
  },
  {
   "cell_type": "code",
   "execution_count": 29,
   "id": "7431d784",
   "metadata": {},
   "outputs": [
    {
     "data": {
      "text/plain": [
       "{'you have a goal for your life': 'positive',\n",
       " 'you have a beautiful girlfriend': 'positive'}"
      ]
     },
     "execution_count": 29,
     "metadata": {},
     "output_type": "execute_result"
    }
   ],
   "source": [
    "life_descriptions"
   ]
  },
  {
   "cell_type": "markdown",
   "id": "f84f799d",
   "metadata": {},
   "source": [
    "## 4.3. the range() function"
   ]
  },
  {
   "cell_type": "code",
   "execution_count": 31,
   "id": "78677ff8",
   "metadata": {},
   "outputs": [
    {
     "name": "stdout",
     "output_type": "stream",
     "text": [
      "0,1,2,3,4,"
     ]
    }
   ],
   "source": [
    "for i in range(5):\n",
    "    print(i, end=\",\")"
   ]
  },
  {
   "cell_type": "code",
   "execution_count": 32,
   "id": "b884fe95",
   "metadata": {},
   "outputs": [
    {
     "data": {
      "text/plain": [
       "[1, 2, 3, 4]"
      ]
     },
     "execution_count": 32,
     "metadata": {},
     "output_type": "execute_result"
    }
   ],
   "source": [
    "list(range(1,5))"
   ]
  },
  {
   "cell_type": "code",
   "execution_count": 33,
   "id": "663350fc",
   "metadata": {},
   "outputs": [
    {
     "data": {
      "text/plain": [
       "[]"
      ]
     },
     "execution_count": 33,
     "metadata": {},
     "output_type": "execute_result"
    }
   ],
   "source": [
    "list(range(1,5,-1))"
   ]
  },
  {
   "cell_type": "code",
   "execution_count": 35,
   "id": "4d931ae8",
   "metadata": {},
   "outputs": [
    {
     "data": {
      "text/plain": [
       "[5, 4, 3, 2]"
      ]
     },
     "execution_count": 35,
     "metadata": {},
     "output_type": "execute_result"
    }
   ],
   "source": [
    "list(range(5,1,-1))"
   ]
  },
  {
   "cell_type": "code",
   "execution_count": 36,
   "id": "15b4c19f",
   "metadata": {},
   "outputs": [
    {
     "name": "stdout",
     "output_type": "stream",
     "text": [
      "0 when\n",
      "1 will\n",
      "2 I\n",
      "3 find\n",
      "4 a\n",
      "5 ideal\n",
      "6 girlfriend\n",
      "7 ?\n"
     ]
    }
   ],
   "source": [
    "words = ['when', 'will', 'I', 'find', 'a', 'ideal', 'girlfriend', '?']\n",
    "for i in range(len(words)):\n",
    "    print(i, words[i])"
   ]
  },
  {
   "cell_type": "code",
   "execution_count": 38,
   "id": "9e07295b",
   "metadata": {},
   "outputs": [
    {
     "name": "stdout",
     "output_type": "stream",
     "text": [
      "range(0, 10, 2)\n"
     ]
    }
   ],
   "source": [
    "print(range(0,10, 2))"
   ]
  },
  {
   "cell_type": "code",
   "execution_count": 40,
   "id": "7a2ed256",
   "metadata": {},
   "outputs": [
    {
     "data": {
      "text/plain": [
       "6"
      ]
     },
     "execution_count": 40,
     "metadata": {},
     "output_type": "execute_result"
    }
   ],
   "source": [
    "sum(range(4))"
   ]
  },
  {
   "cell_type": "markdown",
   "id": "7e4ae712",
   "metadata": {},
   "source": [
    "## 4.4. break and continue Statements, and else Clauses on Loops"
   ]
  },
  {
   "cell_type": "markdown",
   "id": "2b78c1d4",
   "metadata": {},
   "source": [
    "`break`, `else` in for statement"
   ]
  },
  {
   "cell_type": "code",
   "execution_count": 41,
   "id": "160b9cf4",
   "metadata": {},
   "outputs": [
    {
     "name": "stdout",
     "output_type": "stream",
     "text": [
      "2 is a prime number.\n",
      "3 is a prime number.\n",
      "4 = 2 * 2\n",
      "5 is a prime number.\n",
      "6 = 2 * 3\n",
      "7 is a prime number.\n",
      "8 = 2 * 4\n",
      "9 = 3 * 3\n"
     ]
    }
   ],
   "source": [
    "for n in range(2,10):\n",
    "    for i in range(2,n):\n",
    "        if (n % i == 0):\n",
    "            print(n, \"=\", i, \"*\", n//i)\n",
    "            break\n",
    "    else:\n",
    "        print(n, \"is a prime number.\")"
   ]
  },
  {
   "cell_type": "code",
   "execution_count": 44,
   "id": "5dbd0611",
   "metadata": {},
   "outputs": [
    {
     "name": "stdout",
     "output_type": "stream",
     "text": [
      "found a even number: 2\n",
      "found a odd number: 3\n",
      "found a even number: 4\n",
      "found a odd number: 5\n",
      "found a even number: 6\n",
      "found a odd number: 7\n",
      "found a even number: 8\n",
      "found a odd number: 9\n"
     ]
    }
   ],
   "source": [
    "for i in range(2,10):\n",
    "    if i % 2 == 0:\n",
    "        print(\"found a even number:\", i)\n",
    "        continue\n",
    "    print(\"found a odd number:\", i)"
   ]
  },
  {
   "cell_type": "code",
   "execution_count": 45,
   "id": "f6cc0066",
   "metadata": {},
   "outputs": [
    {
     "ename": "KeyboardInterrupt",
     "evalue": "",
     "output_type": "error",
     "traceback": [
      "\u001b[1;31m---------------------------------------------------------------------------\u001b[0m",
      "\u001b[1;31mKeyboardInterrupt\u001b[0m                         Traceback (most recent call last)",
      "Cell \u001b[1;32mIn[45], line 1\u001b[0m\n\u001b[1;32m----> 1\u001b[0m \u001b[38;5;28;01mwhile\u001b[39;00m \u001b[38;5;241m1\u001b[39m:\n\u001b[0;32m      2\u001b[0m     \u001b[38;5;28;01mpass\u001b[39;00m\n",
      "\u001b[1;31mKeyboardInterrupt\u001b[0m: "
     ]
    }
   ],
   "source": [
    "while 1:\n",
    "    pass"
   ]
  },
  {
   "cell_type": "code",
   "execution_count": 46,
   "id": "d1abee4e",
   "metadata": {},
   "outputs": [],
   "source": [
    "class notknowclasyet:\n",
    "    pass"
   ]
  },
  {
   "cell_type": "code",
   "execution_count": 49,
   "id": "2e0b20f7",
   "metadata": {},
   "outputs": [],
   "source": [
    "def initlog(*args):\n",
    "    pass"
   ]
  },
  {
   "cell_type": "markdown",
   "id": "bce80372",
   "metadata": {},
   "source": [
    "## 4.6. match Statements"
   ]
  },
  {
   "cell_type": "code",
   "execution_count": 71,
   "id": "c37dea88",
   "metadata": {},
   "outputs": [],
   "source": [
    "def http_error(status):\n",
    "    match status:\n",
    "        case 400:\n",
    "            return \"Bad request\"\n",
    "        case 404 | 301 :\n",
    "            return \"not found\"\n",
    "        case 418:\n",
    "            return \"I am a teapot\"\n",
    "        case _:\n",
    "            return \"something went wrong with the internet\""
   ]
  },
  {
   "cell_type": "code",
   "execution_count": 69,
   "id": "a3199466",
   "metadata": {},
   "outputs": [
    {
     "name": "stdout",
     "output_type": "stream",
     "text": [
      "internet return what number?302\n"
     ]
    },
    {
     "data": {
      "text/plain": [
       "'something went wrong with the internet'"
      ]
     },
     "execution_count": 69,
     "metadata": {},
     "output_type": "execute_result"
    }
   ],
   "source": [
    "http_error(int(input(\"internet return what number?\")))"
   ]
  },
  {
   "cell_type": "code",
   "execution_count": 96,
   "id": "fcde7dcc",
   "metadata": {},
   "outputs": [],
   "source": [
    "def little_game_for_wzl(sex_age_purpose):\n",
    "    match sex_age_purpose:\n",
    "        case (sex, age, purpose):\n",
    "            print(\"you little crazy animal \"\n",
    "                  \"if you don't want to play \"\n",
    "                  \"go to other place!\"\n",
    "                 )\n",
    "        case ('female', 0):\n",
    "            print(\"new borned little girl\")\n",
    "        case ('male', 0):\n",
    "            print(\"new borned little boy\")\n",
    "        case ('fish', age):\n",
    "            print(f\"welcome! here is for human, fuck off you {age} years old fish!\")\n",
    "        case (sex, -1):\n",
    "            print(f\"welcome! you young little\",\n",
    "                  \"girl,\" if sex == 'female' else \"boy,\",\n",
    "                  \"wait!, how can you being here since you not born yet :)?\"\n",
    "                 )\n",
    "        case _ if 0 < sex_age_purpose[1] <= 10:\n",
    "            print(\"you are only a kid!\")\n",
    "        case _ if 10 < sex_age_purpose[1] <= 20:\n",
    "            print(\"your are only a stupid teenager!\")\n",
    "        case _ if 20 < sex_age_purpose[1] <= 30:\n",
    "            print(\"your are only a onone struggle to live in the world!\")\n",
    "        case _ if 30 < sex_age_purpose[1] <= 40:\n",
    "            print(\"you should ready to die now!\")\n",
    "        case _ if 40 < sex_age_purpose[1] <= 100:\n",
    "            print(\"die now! you are too old!\")\n",
    "        case _ if sex_age_purpose[1] > 100:\n",
    "            print(\"since you're not die yet, congras!\"\n",
    "                  \" you litterally should die, or scientist will catch you up, do research on you.\"\n",
    "                  \" Since you live so many years, base on my scolding every year!\")\n",
    "        case _:\n",
    "            raise ValueError(\"how the heck you can do this???\")"
   ]
  },
  {
   "cell_type": "code",
   "execution_count": 150,
   "id": "3919d022",
   "metadata": {},
   "outputs": [
    {
     "name": "stdout",
     "output_type": "stream",
     "text": [
      "do you want to play a little fun game?(y/n)y\n",
      "please indicate your sex(female or male or fish):hjk\n",
      "please indicate your age(-1, 0, [1, infinite]):hk\n"
     ]
    },
    {
     "ename": "ValueError",
     "evalue": "invalid literal for int() with base 10: 'hk'",
     "output_type": "error",
     "traceback": [
      "\u001b[1;31m---------------------------------------------------------------------------\u001b[0m",
      "\u001b[1;31mValueError\u001b[0m                                Traceback (most recent call last)",
      "Cell \u001b[1;32mIn[150], line 4\u001b[0m\n\u001b[0;32m      1\u001b[0m \u001b[38;5;28;01mif\u001b[39;00m \u001b[38;5;28minput\u001b[39m(\u001b[38;5;124m\"\u001b[39m\u001b[38;5;124mdo you want to play a little fun game?(y/n)\u001b[39m\u001b[38;5;124m\"\u001b[39m) \u001b[38;5;241m==\u001b[39m \u001b[38;5;124m'\u001b[39m\u001b[38;5;124my\u001b[39m\u001b[38;5;124m'\u001b[39m:\n\u001b[0;32m      2\u001b[0m     little_game_for_wzl((\n\u001b[0;32m      3\u001b[0m         \u001b[38;5;28minput\u001b[39m(\u001b[38;5;124m\"\u001b[39m\u001b[38;5;124mplease indicate your sex(female or male or fish):\u001b[39m\u001b[38;5;124m\"\u001b[39m),\n\u001b[1;32m----> 4\u001b[0m         \u001b[38;5;28mint\u001b[39m(\u001b[38;5;28minput\u001b[39m(\u001b[38;5;124m\"\u001b[39m\u001b[38;5;124mplease indicate your age(-1, 0, [1, infinite]):\u001b[39m\u001b[38;5;124m\"\u001b[39m)),\n\u001b[0;32m      5\u001b[0m     ))\n\u001b[0;32m      6\u001b[0m \u001b[38;5;28;01melse\u001b[39;00m:\n\u001b[0;32m      7\u001b[0m     little_game_for_wzl((\n\u001b[0;32m      8\u001b[0m         \u001b[38;5;28minput\u001b[39m(\u001b[38;5;124m\"\u001b[39m\u001b[38;5;124mplease indicate your sex(female or male or fish):\u001b[39m\u001b[38;5;124m\"\u001b[39m),\n\u001b[0;32m      9\u001b[0m         \u001b[38;5;28mint\u001b[39m(\u001b[38;5;28minput\u001b[39m(\u001b[38;5;124m\"\u001b[39m\u001b[38;5;124mplease indicate your age(-1 to infinite):\u001b[39m\u001b[38;5;124m\"\u001b[39m)),\n\u001b[0;32m     10\u001b[0m         \u001b[38;5;124m\"\u001b[39m\u001b[38;5;124mdon\u001b[39m\u001b[38;5;124m'\u001b[39m\u001b[38;5;124mt play the game!\u001b[39m\u001b[38;5;124m\"\u001b[39m\n\u001b[0;32m     11\u001b[0m     ))\n",
      "\u001b[1;31mValueError\u001b[0m: invalid literal for int() with base 10: 'hk'"
     ]
    }
   ],
   "source": [
    "if input(\"do you want to play a little fun game?(y/n)\") == 'y':\n",
    "    little_game_for_wzl((\n",
    "        input(\"please indicate your sex(female or male or fish):\"),\n",
    "        int(input(\"please indicate your age(-1, 0, [1, infinite]):\")),\n",
    "    ))\n",
    "else:\n",
    "    little_game_for_wzl((\n",
    "        input(\"please indicate your sex(female or male or fish):\"),\n",
    "        int(input(\"please indicate your age(-1 to infinite):\")),\n",
    "        \"don't play the game!\"\n",
    "    ))"
   ]
  },
  {
   "cell_type": "code",
   "execution_count": 159,
   "id": "c6706860",
   "metadata": {},
   "outputs": [],
   "source": [
    "class Point:\n",
    "    def __init__(self, x, y):\n",
    "        self.x = x\n",
    "        self.y = y\n",
    "        \n",
    "def where_is(point):\n",
    "    match point:\n",
    "        case Point(x=0, y=0):\n",
    "            print(\"Origin\")\n",
    "        case Point(x=0, y=y):\n",
    "            print(f\"Y={y}\")\n",
    "        case Point(x=x, y=0):\n",
    "            print(f\"X={x}\")\n",
    "        case Point():\n",
    "            print(\"somewhere else!\")\n",
    "        case _:\n",
    "            print(\"not a point\")"
   ]
  },
  {
   "cell_type": "code",
   "execution_count": 162,
   "id": "090353d9",
   "metadata": {},
   "outputs": [
    {
     "name": "stdout",
     "output_type": "stream",
     "text": [
      "not a point\n"
     ]
    }
   ],
   "source": [
    "where_is(1)"
   ]
  },
  {
   "cell_type": "code",
   "execution_count": 163,
   "id": "7bb99b47",
   "metadata": {},
   "outputs": [
    {
     "name": "stdout",
     "output_type": "stream",
     "text": [
      "Enter your choice of 'red', 'blue' or 'green': why\n"
     ]
    },
    {
     "ename": "ValueError",
     "evalue": "'why' is not a valid Color",
     "output_type": "error",
     "traceback": [
      "\u001b[1;31m---------------------------------------------------------------------------\u001b[0m",
      "\u001b[1;31mValueError\u001b[0m                                Traceback (most recent call last)",
      "Cell \u001b[1;32mIn[163], line 7\u001b[0m\n\u001b[0;32m      4\u001b[0m     GREEN \u001b[38;5;241m=\u001b[39m \u001b[38;5;124m'\u001b[39m\u001b[38;5;124mgreen\u001b[39m\u001b[38;5;124m'\u001b[39m\n\u001b[0;32m      5\u001b[0m     BLUE \u001b[38;5;241m=\u001b[39m \u001b[38;5;124m'\u001b[39m\u001b[38;5;124mblue\u001b[39m\u001b[38;5;124m'\u001b[39m\n\u001b[1;32m----> 7\u001b[0m color \u001b[38;5;241m=\u001b[39m Color(\u001b[38;5;28minput\u001b[39m(\u001b[38;5;124m\"\u001b[39m\u001b[38;5;124mEnter your choice of \u001b[39m\u001b[38;5;124m'\u001b[39m\u001b[38;5;124mred\u001b[39m\u001b[38;5;124m'\u001b[39m\u001b[38;5;124m, \u001b[39m\u001b[38;5;124m'\u001b[39m\u001b[38;5;124mblue\u001b[39m\u001b[38;5;124m'\u001b[39m\u001b[38;5;124m or \u001b[39m\u001b[38;5;124m'\u001b[39m\u001b[38;5;124mgreen\u001b[39m\u001b[38;5;124m'\u001b[39m\u001b[38;5;124m: \u001b[39m\u001b[38;5;124m\"\u001b[39m))\n\u001b[0;32m      9\u001b[0m \u001b[38;5;28;01mmatch\u001b[39;00m color:\n\u001b[0;32m     10\u001b[0m     \u001b[38;5;28;01mcase\u001b[39;00m Color\u001b[38;5;241m.\u001b[39mRED:\n\u001b[0;32m     11\u001b[0m         \u001b[38;5;28mprint\u001b[39m(\u001b[38;5;124m\"\u001b[39m\u001b[38;5;124mI see red!\u001b[39m\u001b[38;5;124m\"\u001b[39m)\n\u001b[1;32m   (...)\u001b[0m\n\u001b[0;32m     14\u001b[0m     \u001b[38;5;28;01mcase\u001b[39;00m Color\u001b[38;5;241m.\u001b[39mBLUE:\n\u001b[0;32m     15\u001b[0m         \u001b[38;5;28mprint\u001b[39m(\u001b[38;5;124m\"\u001b[39m\u001b[38;5;124mI\u001b[39m\u001b[38;5;124m'\u001b[39m\u001b[38;5;124mm feeling the blues :(\u001b[39m\u001b[38;5;124m\"\u001b[39m)\n",
      "File \u001b[1;32mE:\\software\\anaconda3\\Lib\\enum.py:714\u001b[0m, in \u001b[0;36mEnumType.__call__\u001b[1;34m(cls, value, names, module, qualname, type, start, boundary)\u001b[0m\n\u001b[0;32m    689\u001b[0m \u001b[38;5;250m\u001b[39m\u001b[38;5;124;03m\"\"\"\u001b[39;00m\n\u001b[0;32m    690\u001b[0m \u001b[38;5;124;03mEither returns an existing member, or creates a new enum class.\u001b[39;00m\n\u001b[0;32m    691\u001b[0m \n\u001b[1;32m   (...)\u001b[0m\n\u001b[0;32m    711\u001b[0m \u001b[38;5;124;03m`type`, if set, will be mixed in as the first base class.\u001b[39;00m\n\u001b[0;32m    712\u001b[0m \u001b[38;5;124;03m\"\"\"\u001b[39;00m\n\u001b[0;32m    713\u001b[0m \u001b[38;5;28;01mif\u001b[39;00m names \u001b[38;5;129;01mis\u001b[39;00m \u001b[38;5;28;01mNone\u001b[39;00m:  \u001b[38;5;66;03m# simple value lookup\u001b[39;00m\n\u001b[1;32m--> 714\u001b[0m     \u001b[38;5;28;01mreturn\u001b[39;00m \u001b[38;5;28mcls\u001b[39m\u001b[38;5;241m.\u001b[39m\u001b[38;5;21m__new__\u001b[39m(\u001b[38;5;28mcls\u001b[39m, value)\n\u001b[0;32m    715\u001b[0m \u001b[38;5;66;03m# otherwise, functional API: we're creating a new Enum type\u001b[39;00m\n\u001b[0;32m    716\u001b[0m \u001b[38;5;28;01mreturn\u001b[39;00m \u001b[38;5;28mcls\u001b[39m\u001b[38;5;241m.\u001b[39m_create_(\n\u001b[0;32m    717\u001b[0m         value,\n\u001b[0;32m    718\u001b[0m         names,\n\u001b[1;32m   (...)\u001b[0m\n\u001b[0;32m    723\u001b[0m         boundary\u001b[38;5;241m=\u001b[39mboundary,\n\u001b[0;32m    724\u001b[0m         )\n",
      "File \u001b[1;32mE:\\software\\anaconda3\\Lib\\enum.py:1130\u001b[0m, in \u001b[0;36mEnum.__new__\u001b[1;34m(cls, value)\u001b[0m\n\u001b[0;32m   1128\u001b[0m ve_exc \u001b[38;5;241m=\u001b[39m \u001b[38;5;167;01mValueError\u001b[39;00m(\u001b[38;5;124m\"\u001b[39m\u001b[38;5;132;01m%r\u001b[39;00m\u001b[38;5;124m is not a valid \u001b[39m\u001b[38;5;132;01m%s\u001b[39;00m\u001b[38;5;124m\"\u001b[39m \u001b[38;5;241m%\u001b[39m (value, \u001b[38;5;28mcls\u001b[39m\u001b[38;5;241m.\u001b[39m\u001b[38;5;18m__qualname__\u001b[39m))\n\u001b[0;32m   1129\u001b[0m \u001b[38;5;28;01mif\u001b[39;00m result \u001b[38;5;129;01mis\u001b[39;00m \u001b[38;5;28;01mNone\u001b[39;00m \u001b[38;5;129;01mand\u001b[39;00m exc \u001b[38;5;129;01mis\u001b[39;00m \u001b[38;5;28;01mNone\u001b[39;00m:\n\u001b[1;32m-> 1130\u001b[0m     \u001b[38;5;28;01mraise\u001b[39;00m ve_exc\n\u001b[0;32m   1131\u001b[0m \u001b[38;5;28;01melif\u001b[39;00m exc \u001b[38;5;129;01mis\u001b[39;00m \u001b[38;5;28;01mNone\u001b[39;00m:\n\u001b[0;32m   1132\u001b[0m     exc \u001b[38;5;241m=\u001b[39m \u001b[38;5;167;01mTypeError\u001b[39;00m(\n\u001b[0;32m   1133\u001b[0m             \u001b[38;5;124m'\u001b[39m\u001b[38;5;124merror in \u001b[39m\u001b[38;5;132;01m%s\u001b[39;00m\u001b[38;5;124m._missing_: returned \u001b[39m\u001b[38;5;132;01m%r\u001b[39;00m\u001b[38;5;124m instead of None or a valid member\u001b[39m\u001b[38;5;124m'\u001b[39m\n\u001b[0;32m   1134\u001b[0m             \u001b[38;5;241m%\u001b[39m (\u001b[38;5;28mcls\u001b[39m\u001b[38;5;241m.\u001b[39m\u001b[38;5;18m__name__\u001b[39m, result)\n\u001b[0;32m   1135\u001b[0m             )\n",
      "\u001b[1;31mValueError\u001b[0m: 'why' is not a valid Color"
     ]
    }
   ],
   "source": [
    "from enum import Enum\n",
    "class Color(Enum):\n",
    "    RED = 'red'\n",
    "    GREEN = 'green'\n",
    "    BLUE = 'blue'\n",
    "\n",
    "color = Color(input(\"Enter your choice of 'red', 'blue' or 'green': \"))\n",
    "\n",
    "match color:\n",
    "    case Color.RED:\n",
    "        print(\"I see red!\")\n",
    "    case Color.GREEN:\n",
    "        print(\"Grass is green\")\n",
    "    case Color.BLUE:\n",
    "        print(\"I'm feeling the blues :(\")"
   ]
  },
  {
   "cell_type": "markdown",
   "id": "1c69e5bb",
   "metadata": {},
   "source": [
    "## 4.7. Defining Functions"
   ]
  },
  {
   "cell_type": "code",
   "execution_count": 196,
   "id": "5c5d6eda",
   "metadata": {},
   "outputs": [
    {
     "name": "stdout",
     "output_type": "stream",
     "text": [
      "0 1 1 2 3 5 8 13 21 34 55 89 144 233 377 610 987 1597 \n"
     ]
    }
   ],
   "source": [
    "def fib(n):    # write Fibonacci series up to n\n",
    "    \"\"\"\n",
    "    Print a Fibonacci series up to n.\n",
    "    \n",
    "    cool\n",
    "    \"\"\"\n",
    "    a, b = 0, 1\n",
    "    while a < n:\n",
    "        print(a, end=' ')\n",
    "        a, b = b, a+b\n",
    "    print()\n",
    "\n",
    "# Now call the function we just defined:\n",
    "fib(2000)"
   ]
  },
  {
   "cell_type": "code",
   "execution_count": 197,
   "id": "14a3d425",
   "metadata": {},
   "outputs": [
    {
     "name": "stdout",
     "output_type": "stream",
     "text": [
      "\n",
      "    Print a Fibonacci series up to n.\n",
      "    \n",
      "    cool\n",
      "    \n"
     ]
    }
   ],
   "source": [
    "print(fib.__doc__)"
   ]
  },
  {
   "cell_type": "markdown",
   "id": "0de0cb06",
   "metadata": {},
   "source": [
    "function can like value to be pass as a varible"
   ]
  },
  {
   "cell_type": "code",
   "execution_count": 198,
   "id": "1437babd",
   "metadata": {},
   "outputs": [
    {
     "data": {
      "text/plain": [
       "<function __main__.fib(n)>"
      ]
     },
     "execution_count": 198,
     "metadata": {},
     "output_type": "execute_result"
    }
   ],
   "source": [
    "fib"
   ]
  },
  {
   "cell_type": "code",
   "execution_count": 199,
   "id": "2034d049",
   "metadata": {},
   "outputs": [],
   "source": [
    "f = fib"
   ]
  },
  {
   "cell_type": "code",
   "execution_count": 200,
   "id": "d824667c",
   "metadata": {},
   "outputs": [
    {
     "name": "stdout",
     "output_type": "stream",
     "text": [
      "0 1 1 2 3 5 8 13 21 34 55 89 \n"
     ]
    }
   ],
   "source": [
    "f(100)"
   ]
  },
  {
   "cell_type": "markdown",
   "id": "e38341ef",
   "metadata": {},
   "source": [
    "function return None will be invisible unless using print()"
   ]
  },
  {
   "cell_type": "code",
   "execution_count": 203,
   "id": "618a74fa",
   "metadata": {},
   "outputs": [
    {
     "name": "stdout",
     "output_type": "stream",
     "text": [
      "\n"
     ]
    }
   ],
   "source": [
    "fib(0)"
   ]
  },
  {
   "cell_type": "code",
   "execution_count": 202,
   "id": "e05b7c8f",
   "metadata": {},
   "outputs": [
    {
     "name": "stdout",
     "output_type": "stream",
     "text": [
      "\n",
      "None\n"
     ]
    }
   ],
   "source": [
    "print(fib(0))"
   ]
  },
  {
   "cell_type": "markdown",
   "id": "80b83cf1",
   "metadata": {},
   "source": [
    "list.append() is more efficient than list + list"
   ]
  },
  {
   "cell_type": "code",
   "execution_count": 207,
   "id": "4301b69d",
   "metadata": {},
   "outputs": [
    {
     "data": {
      "text/plain": [
       "[0, 1, 1, 2, 3, 5, 8, 13, 21, 34, 55, 89]"
      ]
     },
     "execution_count": 207,
     "metadata": {},
     "output_type": "execute_result"
    }
   ],
   "source": [
    "def fib(n):\n",
    "    \"\"\"Return a list containing the Fibonacci series up to n\"\"\"\n",
    "    a, b = 0, 1\n",
    "    res = []\n",
    "    while a < n:\n",
    "        res.append(a)\n",
    "        a, b = b, a+b\n",
    "    return res\n",
    "f100 = fib(100)\n",
    "f100"
   ]
  },
  {
   "cell_type": "markdown",
   "id": "2ba959f2",
   "metadata": {},
   "source": [
    "## 4.8. More on Defining Functions"
   ]
  },
  {
   "cell_type": "markdown",
   "id": "d592e750",
   "metadata": {},
   "source": [
    "### 4.8.1. Default Argument Values"
   ]
  },
  {
   "cell_type": "markdown",
   "id": "8bcbed52",
   "metadata": {},
   "source": [
    "`in` keyword"
   ]
  },
  {
   "cell_type": "code",
   "execution_count": 208,
   "id": "cbf9f9f3",
   "metadata": {},
   "outputs": [],
   "source": [
    "def ask_ok(prompt, retries=4, reminder='Please try again!'):\n",
    "    while True:\n",
    "        ok = input(prompt)\n",
    "        if ok in ('y', 'ye', 'yes'):\n",
    "            return True\n",
    "        if ok in ('n', 'no', 'nop', 'nope'):\n",
    "            return False\n",
    "        retries = retries - 1\n",
    "        if retries < 0:\n",
    "            raise ValueError('invalid user response')\n",
    "        print(reminder)"
   ]
  },
  {
   "cell_type": "code",
   "execution_count": 210,
   "id": "0d0487c8",
   "metadata": {},
   "outputs": [
    {
     "name": "stdout",
     "output_type": "stream",
     "text": [
      "do you really want to quit?1\n",
      "Please try again!\n",
      "do you really want to quit?y\n"
     ]
    },
    {
     "data": {
      "text/plain": [
       "True"
      ]
     },
     "execution_count": 210,
     "metadata": {},
     "output_type": "execute_result"
    }
   ],
   "source": [
    "ask_ok(\"do you really want to quit?\")"
   ]
  },
  {
   "cell_type": "code",
   "execution_count": 211,
   "id": "87b79d4d",
   "metadata": {},
   "outputs": [
    {
     "name": "stdout",
     "output_type": "stream",
     "text": [
      "do you really want to quit??\n",
      "Please try again!\n",
      "do you really want to quit?1\n",
      "Please try again!\n",
      "do you really want to quit?2\n"
     ]
    },
    {
     "ename": "ValueError",
     "evalue": "invalid user response",
     "output_type": "error",
     "traceback": [
      "\u001b[1;31m---------------------------------------------------------------------------\u001b[0m",
      "\u001b[1;31mValueError\u001b[0m                                Traceback (most recent call last)",
      "Cell \u001b[1;32mIn[211], line 1\u001b[0m\n\u001b[1;32m----> 1\u001b[0m ask_ok(\u001b[38;5;124m\"\u001b[39m\u001b[38;5;124mdo you really want to quit?\u001b[39m\u001b[38;5;124m\"\u001b[39m,\u001b[38;5;241m2\u001b[39m)\n",
      "Cell \u001b[1;32mIn[208], line 10\u001b[0m, in \u001b[0;36mask_ok\u001b[1;34m(prompt, retries, reminder)\u001b[0m\n\u001b[0;32m      8\u001b[0m retries \u001b[38;5;241m=\u001b[39m retries \u001b[38;5;241m-\u001b[39m \u001b[38;5;241m1\u001b[39m\n\u001b[0;32m      9\u001b[0m \u001b[38;5;28;01mif\u001b[39;00m retries \u001b[38;5;241m<\u001b[39m \u001b[38;5;241m0\u001b[39m:\n\u001b[1;32m---> 10\u001b[0m     \u001b[38;5;28;01mraise\u001b[39;00m \u001b[38;5;167;01mValueError\u001b[39;00m(\u001b[38;5;124m'\u001b[39m\u001b[38;5;124minvalid user response\u001b[39m\u001b[38;5;124m'\u001b[39m)\n\u001b[0;32m     11\u001b[0m \u001b[38;5;28mprint\u001b[39m(reminder)\n",
      "\u001b[1;31mValueError\u001b[0m: invalid user response"
     ]
    }
   ],
   "source": [
    "ask_ok(\"do you really want to quit?\",2)"
   ]
  },
  {
   "cell_type": "code",
   "execution_count": 212,
   "id": "626fe450",
   "metadata": {},
   "outputs": [
    {
     "name": "stdout",
     "output_type": "stream",
     "text": [
      "do you really want to quit?1\n",
      "you idiot, put y or n\n",
      "do you really want to quit?2\n",
      "you idiot, put y or n\n",
      "do you really want to quit?3\n"
     ]
    },
    {
     "ename": "ValueError",
     "evalue": "invalid user response",
     "output_type": "error",
     "traceback": [
      "\u001b[1;31m---------------------------------------------------------------------------\u001b[0m",
      "\u001b[1;31mValueError\u001b[0m                                Traceback (most recent call last)",
      "Cell \u001b[1;32mIn[212], line 1\u001b[0m\n\u001b[1;32m----> 1\u001b[0m ask_ok(\u001b[38;5;124m\"\u001b[39m\u001b[38;5;124mdo you really want to quit?\u001b[39m\u001b[38;5;124m\"\u001b[39m,\u001b[38;5;241m2\u001b[39m, \u001b[38;5;124m\"\u001b[39m\u001b[38;5;124myou idiot, put y or n\u001b[39m\u001b[38;5;124m\"\u001b[39m)\n",
      "Cell \u001b[1;32mIn[208], line 10\u001b[0m, in \u001b[0;36mask_ok\u001b[1;34m(prompt, retries, reminder)\u001b[0m\n\u001b[0;32m      8\u001b[0m retries \u001b[38;5;241m=\u001b[39m retries \u001b[38;5;241m-\u001b[39m \u001b[38;5;241m1\u001b[39m\n\u001b[0;32m      9\u001b[0m \u001b[38;5;28;01mif\u001b[39;00m retries \u001b[38;5;241m<\u001b[39m \u001b[38;5;241m0\u001b[39m:\n\u001b[1;32m---> 10\u001b[0m     \u001b[38;5;28;01mraise\u001b[39;00m \u001b[38;5;167;01mValueError\u001b[39;00m(\u001b[38;5;124m'\u001b[39m\u001b[38;5;124minvalid user response\u001b[39m\u001b[38;5;124m'\u001b[39m)\n\u001b[0;32m     11\u001b[0m \u001b[38;5;28mprint\u001b[39m(reminder)\n",
      "\u001b[1;31mValueError\u001b[0m: invalid user response"
     ]
    }
   ],
   "source": [
    "ask_ok(\"do you really want to quit?\",2, \"you idiot, put y or n\")"
   ]
  },
  {
   "cell_type": "code",
   "execution_count": 215,
   "id": "5404cecb",
   "metadata": {},
   "outputs": [
    {
     "name": "stdout",
     "output_type": "stream",
     "text": [
      "5\n"
     ]
    }
   ],
   "source": [
    "i = 5\n",
    "\n",
    "def f(arg=i):\n",
    "    print(arg)\n",
    "\n",
    "i = 6\n",
    "\n",
    "f()"
   ]
  },
  {
   "cell_type": "markdown",
   "id": "c3104508",
   "metadata": {},
   "source": [
    "default value is evaluated only once"
   ]
  },
  {
   "cell_type": "code",
   "execution_count": 222,
   "id": "d71e5064",
   "metadata": {},
   "outputs": [
    {
     "name": "stdout",
     "output_type": "stream",
     "text": [
      "[1]\n",
      "[1, 2]\n",
      "[1, 2, 3]\n"
     ]
    }
   ],
   "source": [
    "def f(a, L=[]):\n",
    "    L.append(a)\n",
    "    return L\n",
    "\n",
    "print(f(1))\n",
    "print(f(2))\n",
    "print(f(3))"
   ]
  },
  {
   "cell_type": "code",
   "execution_count": 223,
   "id": "4ad33b23",
   "metadata": {},
   "outputs": [
    {
     "name": "stdout",
     "output_type": "stream",
     "text": [
      "[1]\n",
      "[2]\n",
      "[3]\n"
     ]
    }
   ],
   "source": [
    "def f(a, L=None):\n",
    "    if L is None:\n",
    "        L = []\n",
    "    L.append(a)\n",
    "    return L\n",
    "\n",
    "print(f(1))\n",
    "print(f(2))\n",
    "print(f(3))"
   ]
  },
  {
   "cell_type": "markdown",
   "id": "74b25afe",
   "metadata": {},
   "source": [
    "### 4.8.2. Keyword Arguments"
   ]
  },
  {
   "cell_type": "markdown",
   "id": "cb3e16d0",
   "metadata": {},
   "source": [
    "examples how to use positional arguments and keyword arguments"
   ]
  },
  {
   "cell_type": "code",
   "execution_count": 1,
   "id": "1873fcc9",
   "metadata": {},
   "outputs": [],
   "source": [
    "def parrot(voltage, state='a stiff', action='voom', type='Norwegian Blue'):\n",
    "    print(\"-- This parrot wouldn't\", action, end=' ')\n",
    "    print(\"if you put\", voltage, \"volts through it.\")\n",
    "    print(\"-- Lovely plumage, the\", type)\n",
    "    print(\"-- It's\", state, \"!\")"
   ]
  },
  {
   "cell_type": "code",
   "execution_count": 2,
   "id": "b3fba261",
   "metadata": {},
   "outputs": [
    {
     "name": "stdout",
     "output_type": "stream",
     "text": [
      "-- This parrot wouldn't voom if you put 1000 volts through it.\n",
      "-- Lovely plumage, the Norwegian Blue\n",
      "-- It's a stiff !\n"
     ]
    }
   ],
   "source": [
    "parrot(1000) "
   ]
  },
  {
   "cell_type": "code",
   "execution_count": 3,
   "id": "4e87a957",
   "metadata": {},
   "outputs": [
    {
     "name": "stdout",
     "output_type": "stream",
     "text": [
      "-- This parrot wouldn't voom if you put 1000 volts through it.\n",
      "-- Lovely plumage, the Norwegian Blue\n",
      "-- It's a stiff !\n"
     ]
    }
   ],
   "source": [
    "parrot(voltage=1000) "
   ]
  },
  {
   "cell_type": "code",
   "execution_count": 4,
   "id": "dfbc0c0a",
   "metadata": {},
   "outputs": [
    {
     "name": "stdout",
     "output_type": "stream",
     "text": [
      "-- This parrot wouldn't VOOOOOM if you put 1000000 volts through it.\n",
      "-- Lovely plumage, the Norwegian Blue\n",
      "-- It's a stiff !\n"
     ]
    }
   ],
   "source": [
    "parrot(voltage=1000000, action='VOOOOOM')   "
   ]
  },
  {
   "cell_type": "code",
   "execution_count": 5,
   "id": "7d7fd6f2",
   "metadata": {},
   "outputs": [
    {
     "name": "stdout",
     "output_type": "stream",
     "text": [
      "-- This parrot wouldn't VOOOOOM if you put 1000000 volts through it.\n",
      "-- Lovely plumage, the Norwegian Blue\n",
      "-- It's a stiff !\n"
     ]
    }
   ],
   "source": [
    "parrot(action='VOOOOOM', voltage=1000000) "
   ]
  },
  {
   "cell_type": "code",
   "execution_count": 6,
   "id": "8294cabd",
   "metadata": {},
   "outputs": [
    {
     "name": "stdout",
     "output_type": "stream",
     "text": [
      "-- This parrot wouldn't jump if you put a million volts through it.\n",
      "-- Lovely plumage, the Norwegian Blue\n",
      "-- It's bereft of life !\n"
     ]
    }
   ],
   "source": [
    "parrot('a million', 'bereft of life', 'jump') "
   ]
  },
  {
   "cell_type": "code",
   "execution_count": 7,
   "id": "24175da5",
   "metadata": {},
   "outputs": [
    {
     "name": "stdout",
     "output_type": "stream",
     "text": [
      "-- This parrot wouldn't voom if you put a thousand volts through it.\n",
      "-- Lovely plumage, the Norwegian Blue\n",
      "-- It's pushing up the daisies !\n"
     ]
    }
   ],
   "source": [
    "parrot('a thousand', state='pushing up the daisies')"
   ]
  },
  {
   "cell_type": "code",
   "execution_count": 8,
   "id": "e029c1c6",
   "metadata": {},
   "outputs": [
    {
     "ename": "TypeError",
     "evalue": "parrot() missing 1 required positional argument: 'voltage'",
     "output_type": "error",
     "traceback": [
      "\u001b[1;31m---------------------------------------------------------------------------\u001b[0m",
      "\u001b[1;31mTypeError\u001b[0m                                 Traceback (most recent call last)",
      "Cell \u001b[1;32mIn[8], line 1\u001b[0m\n\u001b[1;32m----> 1\u001b[0m parrot()\n",
      "\u001b[1;31mTypeError\u001b[0m: parrot() missing 1 required positional argument: 'voltage'"
     ]
    }
   ],
   "source": [
    "parrot()"
   ]
  },
  {
   "cell_type": "code",
   "execution_count": 9,
   "id": "e4944853",
   "metadata": {},
   "outputs": [
    {
     "ename": "SyntaxError",
     "evalue": "positional argument follows keyword argument (42764985.py, line 1)",
     "output_type": "error",
     "traceback": [
      "\u001b[1;36m  Cell \u001b[1;32mIn[9], line 1\u001b[1;36m\u001b[0m\n\u001b[1;33m    parrot(voltage=5.0, 'dead')\u001b[0m\n\u001b[1;37m                              ^\u001b[0m\n\u001b[1;31mSyntaxError\u001b[0m\u001b[1;31m:\u001b[0m positional argument follows keyword argument\n"
     ]
    }
   ],
   "source": [
    "parrot(voltage=5.0, 'dead')"
   ]
  },
  {
   "cell_type": "code",
   "execution_count": 10,
   "id": "b01a03e0",
   "metadata": {},
   "outputs": [
    {
     "ename": "TypeError",
     "evalue": "parrot() got multiple values for argument 'voltage'",
     "output_type": "error",
     "traceback": [
      "\u001b[1;31m---------------------------------------------------------------------------\u001b[0m",
      "\u001b[1;31mTypeError\u001b[0m                                 Traceback (most recent call last)",
      "Cell \u001b[1;32mIn[10], line 1\u001b[0m\n\u001b[1;32m----> 1\u001b[0m parrot(\u001b[38;5;241m110\u001b[39m, voltage\u001b[38;5;241m=\u001b[39m\u001b[38;5;241m220\u001b[39m)\n",
      "\u001b[1;31mTypeError\u001b[0m: parrot() got multiple values for argument 'voltage'"
     ]
    }
   ],
   "source": [
    "parrot(110, voltage=220)"
   ]
  },
  {
   "cell_type": "code",
   "execution_count": 11,
   "id": "403793c2",
   "metadata": {},
   "outputs": [
    {
     "ename": "TypeError",
     "evalue": "parrot() got an unexpected keyword argument 'actor'",
     "output_type": "error",
     "traceback": [
      "\u001b[1;31m---------------------------------------------------------------------------\u001b[0m",
      "\u001b[1;31mTypeError\u001b[0m                                 Traceback (most recent call last)",
      "Cell \u001b[1;32mIn[11], line 1\u001b[0m\n\u001b[1;32m----> 1\u001b[0m parrot(actor\u001b[38;5;241m=\u001b[39m\u001b[38;5;124m'\u001b[39m\u001b[38;5;124mJohn Cleese\u001b[39m\u001b[38;5;124m'\u001b[39m)\n",
      "\u001b[1;31mTypeError\u001b[0m: parrot() got an unexpected keyword argument 'actor'"
     ]
    }
   ],
   "source": [
    "parrot(actor='John Cleese')"
   ]
  },
  {
   "cell_type": "markdown",
   "id": "0ac97d09",
   "metadata": {},
   "source": [
    "`*name`-tuple,`**name`-dictionary"
   ]
  },
  {
   "cell_type": "code",
   "execution_count": 12,
   "id": "f409576e",
   "metadata": {},
   "outputs": [],
   "source": [
    "def cheeseshop(kind, *arguments, **keywords):\n",
    "    print(\"-- Do you have any\", kind, \"?\")\n",
    "    print(\"-- I'm sorry, we're all out of\", kind)\n",
    "    for arg in arguments:\n",
    "        print(arg)\n",
    "    print(\"-\" * 40)\n",
    "    for kw in keywords:\n",
    "        print(kw, \":\", keywords[kw])"
   ]
  },
  {
   "cell_type": "code",
   "execution_count": 16,
   "id": "c1197051",
   "metadata": {},
   "outputs": [
    {
     "name": "stdout",
     "output_type": "stream",
     "text": [
      "-- Do you have any Limburger ?\n",
      "-- I'm sorry, we're all out of Limburger\n",
      "----------------------------------------\n",
      "arguments : [\"It's very runny, sir.\", \"It's really very, VERY runny, sir.\"]\n",
      "shopkeeper : Michael Palin\n",
      "client : John Cleese\n",
      "sketch : Cheese Shop Sketch\n"
     ]
    }
   ],
   "source": [
    "cheeseshop(\"Limburger\", \"It's very runny, sir.\",\n",
    "           \"It's really very, VERY runny, sir.\",\n",
    "           shopkeeper=\"Michael Palin\",\n",
    "           client=\"John Cleese\",\n",
    "           sketch=\"Cheese Shop Sketch\")"
   ]
  },
  {
   "cell_type": "markdown",
   "id": "28425419",
   "metadata": {},
   "source": [
    "### 4.8.3. Special parameters"
   ]
  },
  {
   "cell_type": "code",
   "execution_count": 17,
   "id": "0c78e4dd",
   "metadata": {},
   "outputs": [],
   "source": [
    "def standard_arg(arg):\n",
    "    print(arg)\n",
    "\n",
    "def pos_only_arg(arg, /):\n",
    "    print(arg)\n",
    "\n",
    "def kwd_only_arg(*, arg):\n",
    "    print(arg)\n",
    "\n",
    "def combined_example(pos_only, /, standard, *, kwd_only):\n",
    "    print(pos_only, standard, kwd_only)"
   ]
  },
  {
   "cell_type": "code",
   "execution_count": 18,
   "id": "f4a81a28",
   "metadata": {},
   "outputs": [
    {
     "name": "stdout",
     "output_type": "stream",
     "text": [
      "2\n"
     ]
    }
   ],
   "source": [
    "standard_arg(2)"
   ]
  },
  {
   "cell_type": "code",
   "execution_count": 19,
   "id": "40feed29",
   "metadata": {},
   "outputs": [
    {
     "name": "stdout",
     "output_type": "stream",
     "text": [
      "2\n"
     ]
    }
   ],
   "source": [
    "standard_arg(arg=2)"
   ]
  },
  {
   "cell_type": "code",
   "execution_count": 20,
   "id": "2a88716a",
   "metadata": {},
   "outputs": [
    {
     "name": "stdout",
     "output_type": "stream",
     "text": [
      "2\n"
     ]
    }
   ],
   "source": [
    "pos_only_arg(2)"
   ]
  },
  {
   "cell_type": "code",
   "execution_count": 21,
   "id": "8b5357df",
   "metadata": {},
   "outputs": [
    {
     "ename": "TypeError",
     "evalue": "pos_only_arg() got some positional-only arguments passed as keyword arguments: 'arg'",
     "output_type": "error",
     "traceback": [
      "\u001b[1;31m---------------------------------------------------------------------------\u001b[0m",
      "\u001b[1;31mTypeError\u001b[0m                                 Traceback (most recent call last)",
      "Cell \u001b[1;32mIn[21], line 1\u001b[0m\n\u001b[1;32m----> 1\u001b[0m pos_only_arg(arg\u001b[38;5;241m=\u001b[39m\u001b[38;5;241m2\u001b[39m)\n",
      "\u001b[1;31mTypeError\u001b[0m: pos_only_arg() got some positional-only arguments passed as keyword arguments: 'arg'"
     ]
    }
   ],
   "source": [
    "pos_only_arg(arg=2)"
   ]
  },
  {
   "cell_type": "code",
   "execution_count": 22,
   "id": "3fe1f54e",
   "metadata": {},
   "outputs": [
    {
     "ename": "TypeError",
     "evalue": "kwd_only_arg() takes 0 positional arguments but 1 was given",
     "output_type": "error",
     "traceback": [
      "\u001b[1;31m---------------------------------------------------------------------------\u001b[0m",
      "\u001b[1;31mTypeError\u001b[0m                                 Traceback (most recent call last)",
      "Cell \u001b[1;32mIn[22], line 1\u001b[0m\n\u001b[1;32m----> 1\u001b[0m kwd_only_arg(\u001b[38;5;241m2\u001b[39m)\n",
      "\u001b[1;31mTypeError\u001b[0m: kwd_only_arg() takes 0 positional arguments but 1 was given"
     ]
    }
   ],
   "source": [
    "kwd_only_arg(2)"
   ]
  },
  {
   "cell_type": "code",
   "execution_count": 23,
   "id": "0ee4a943",
   "metadata": {},
   "outputs": [
    {
     "name": "stdout",
     "output_type": "stream",
     "text": [
      "2\n"
     ]
    }
   ],
   "source": [
    "kwd_only_arg(arg=2)"
   ]
  },
  {
   "cell_type": "code",
   "execution_count": 24,
   "id": "73ca7045",
   "metadata": {},
   "outputs": [
    {
     "ename": "TypeError",
     "evalue": "combined_example() takes 2 positional arguments but 3 were given",
     "output_type": "error",
     "traceback": [
      "\u001b[1;31m---------------------------------------------------------------------------\u001b[0m",
      "\u001b[1;31mTypeError\u001b[0m                                 Traceback (most recent call last)",
      "Cell \u001b[1;32mIn[24], line 1\u001b[0m\n\u001b[1;32m----> 1\u001b[0m combined_example(\u001b[38;5;241m1\u001b[39m,\u001b[38;5;241m2\u001b[39m,\u001b[38;5;241m3\u001b[39m)\n",
      "\u001b[1;31mTypeError\u001b[0m: combined_example() takes 2 positional arguments but 3 were given"
     ]
    }
   ],
   "source": [
    "combined_example(1,2,3)"
   ]
  },
  {
   "cell_type": "code",
   "execution_count": 25,
   "id": "4df8d174",
   "metadata": {},
   "outputs": [
    {
     "name": "stdout",
     "output_type": "stream",
     "text": [
      "1 2 3\n"
     ]
    }
   ],
   "source": [
    "combined_example(1,2,kwd_only = 3)"
   ]
  },
  {
   "cell_type": "code",
   "execution_count": 26,
   "id": "ab45118f",
   "metadata": {},
   "outputs": [
    {
     "name": "stdout",
     "output_type": "stream",
     "text": [
      "1 2 3\n"
     ]
    }
   ],
   "source": [
    "combined_example(1, standard = 2, kwd_only = 3)"
   ]
  },
  {
   "cell_type": "code",
   "execution_count": 27,
   "id": "61abe032",
   "metadata": {},
   "outputs": [
    {
     "ename": "TypeError",
     "evalue": "combined_example() got some positional-only arguments passed as keyword arguments: 'pos_only'",
     "output_type": "error",
     "traceback": [
      "\u001b[1;31m---------------------------------------------------------------------------\u001b[0m",
      "\u001b[1;31mTypeError\u001b[0m                                 Traceback (most recent call last)",
      "Cell \u001b[1;32mIn[27], line 1\u001b[0m\n\u001b[1;32m----> 1\u001b[0m combined_example(pos_only \u001b[38;5;241m=\u001b[39m \u001b[38;5;241m1\u001b[39m, standard \u001b[38;5;241m=\u001b[39m \u001b[38;5;241m2\u001b[39m, kwd_only \u001b[38;5;241m=\u001b[39m \u001b[38;5;241m3\u001b[39m)\n",
      "\u001b[1;31mTypeError\u001b[0m: combined_example() got some positional-only arguments passed as keyword arguments: 'pos_only'"
     ]
    }
   ],
   "source": [
    "combined_example(pos_only = 1, standard = 2, kwd_only = 3)"
   ]
  },
  {
   "cell_type": "markdown",
   "id": "b5fff654",
   "metadata": {},
   "source": [
    "understanding `positional argument` and `keywords argument`"
   ]
  },
  {
   "cell_type": "code",
   "execution_count": 46,
   "id": "14c39d88",
   "metadata": {},
   "outputs": [],
   "source": [
    "def foo(name, **kwds):\n",
    "    print(name)\n",
    "    print(kwds)\n",
    "    return 'name' in kwds"
   ]
  },
  {
   "cell_type": "code",
   "execution_count": 48,
   "id": "5838341c",
   "metadata": {},
   "outputs": [
    {
     "ename": "TypeError",
     "evalue": "foo() got multiple values for argument 'name'",
     "output_type": "error",
     "traceback": [
      "\u001b[1;31m---------------------------------------------------------------------------\u001b[0m",
      "\u001b[1;31mTypeError\u001b[0m                                 Traceback (most recent call last)",
      "Cell \u001b[1;32mIn[48], line 1\u001b[0m\n\u001b[1;32m----> 1\u001b[0m foo(\u001b[38;5;241m1\u001b[39m, \u001b[38;5;241m*\u001b[39m\u001b[38;5;241m*\u001b[39m{\u001b[38;5;124m'\u001b[39m\u001b[38;5;124mname1\u001b[39m\u001b[38;5;124m'\u001b[39m:\u001b[38;5;241m1\u001b[39m, \u001b[38;5;124m'\u001b[39m\u001b[38;5;124mname\u001b[39m\u001b[38;5;124m'\u001b[39m:\u001b[38;5;241m2\u001b[39m})\n",
      "\u001b[1;31mTypeError\u001b[0m: foo() got multiple values for argument 'name'"
     ]
    }
   ],
   "source": [
    "foo(1, **{'name1':1, 'name':2})"
   ]
  },
  {
   "cell_type": "code",
   "execution_count": 40,
   "id": "205db279",
   "metadata": {},
   "outputs": [],
   "source": [
    "def foo(name, /, **kwds):\n",
    "    return 'name' in kwds"
   ]
  },
  {
   "cell_type": "code",
   "execution_count": 41,
   "id": "153cd53e",
   "metadata": {},
   "outputs": [
    {
     "data": {
      "text/plain": [
       "True"
      ]
     },
     "execution_count": 41,
     "metadata": {},
     "output_type": "execute_result"
    }
   ],
   "source": [
    "foo(1, **{'name': 2})"
   ]
  },
  {
   "cell_type": "markdown",
   "id": "7b7bcb9d",
   "metadata": {},
   "source": [
    "when to use positional-only:parameter's names will be modified,parameter names have no real meaning\n",
    "\n",
    "when to use keyword-only:name have meaning"
   ]
  },
  {
   "cell_type": "markdown",
   "id": "0e5cd15c",
   "metadata": {},
   "source": [
    "### 4.8.4. Arbitrary Argument Lists"
   ]
  },
  {
   "cell_type": "markdown",
   "id": "9d5047ff",
   "metadata": {},
   "source": [
    "Any formal parameters which occur after the *args parameter are ‘keyword-only’ arguments"
   ]
  },
  {
   "cell_type": "code",
   "execution_count": 49,
   "id": "0cad799d",
   "metadata": {},
   "outputs": [],
   "source": [
    "def concat(*args, sep = \"/\"):\n",
    "    return sep.join(args)"
   ]
  },
  {
   "cell_type": "code",
   "execution_count": 50,
   "id": "b7d9f07a",
   "metadata": {},
   "outputs": [
    {
     "data": {
      "text/plain": [
       "'earth/mars/venus'"
      ]
     },
     "execution_count": 50,
     "metadata": {},
     "output_type": "execute_result"
    }
   ],
   "source": [
    "concat(\"earth\", \"mars\", \"venus\")"
   ]
  },
  {
   "cell_type": "code",
   "execution_count": 51,
   "id": "50f3fcd7",
   "metadata": {},
   "outputs": [
    {
     "data": {
      "text/plain": [
       "'earth.mars.venus'"
      ]
     },
     "execution_count": 51,
     "metadata": {},
     "output_type": "execute_result"
    }
   ],
   "source": [
    "concat(\"earth\", \"mars\", \"venus\", sep=\".\")"
   ]
  },
  {
   "cell_type": "markdown",
   "id": "2299255c",
   "metadata": {},
   "source": [
    "### 4.8.5. Unpacking Argument Lists"
   ]
  },
  {
   "cell_type": "code",
   "execution_count": 52,
   "id": "98271aac",
   "metadata": {},
   "outputs": [
    {
     "data": {
      "text/plain": [
       "[3, 4, 5]"
      ]
     },
     "execution_count": 52,
     "metadata": {},
     "output_type": "execute_result"
    }
   ],
   "source": [
    "list(range(3,6))"
   ]
  },
  {
   "cell_type": "code",
   "execution_count": 55,
   "id": "cca8c5af",
   "metadata": {},
   "outputs": [
    {
     "data": {
      "text/plain": [
       "[3, 4, 5]"
      ]
     },
     "execution_count": 55,
     "metadata": {},
     "output_type": "execute_result"
    }
   ],
   "source": [
    "args = [3,6]\n",
    "list(range(*args))"
   ]
  },
  {
   "cell_type": "code",
   "execution_count": 56,
   "id": "2296f355",
   "metadata": {},
   "outputs": [],
   "source": [
    "def parrot(voltage, state='a stiff', action='voom'):\n",
    "    print(\"-- This parrot wouldn't\", action, end=' ')\n",
    "    print(\"if you put\", voltage, \"volts through it.\", end=' ')\n",
    "    print(\"E's\", state, \"!\")"
   ]
  },
  {
   "cell_type": "code",
   "execution_count": 57,
   "id": "4aad1e04",
   "metadata": {},
   "outputs": [
    {
     "name": "stdout",
     "output_type": "stream",
     "text": [
      "-- This parrot wouldn't VOOM if you put four million volts through it. E's bleedin' demised !\n"
     ]
    }
   ],
   "source": [
    "d = {\"voltage\": \"four million\", \"state\": \"bleedin' demised\", \"action\": \"VOOM\"}\n",
    "parrot(**d)"
   ]
  },
  {
   "cell_type": "markdown",
   "id": "53206a03",
   "metadata": {},
   "source": [
    "### 4.8.6. Lambda Expressions"
   ]
  },
  {
   "cell_type": "markdown",
   "id": "0f0591a7",
   "metadata": {},
   "source": [
    "return a function"
   ]
  },
  {
   "cell_type": "code",
   "execution_count": 58,
   "id": "3e016bc0",
   "metadata": {},
   "outputs": [],
   "source": [
    "def make_incrementor(n):\n",
    "    return lambda x: x + n"
   ]
  },
  {
   "cell_type": "code",
   "execution_count": 63,
   "id": "ebc56151",
   "metadata": {},
   "outputs": [
    {
     "data": {
      "text/plain": [
       "43"
      ]
     },
     "execution_count": 63,
     "metadata": {},
     "output_type": "execute_result"
    }
   ],
   "source": [
    "f = make_incrementor(42)\n",
    "f(2)\n",
    "f(1)"
   ]
  },
  {
   "cell_type": "markdown",
   "id": "f615cc1e",
   "metadata": {},
   "source": [
    "pass a small function as an argument"
   ]
  },
  {
   "cell_type": "code",
   "execution_count": 69,
   "id": "5c7bdc07",
   "metadata": {},
   "outputs": [
    {
     "data": {
      "text/plain": [
       "[(4, 'four'), (1, 'one'), (3, 'three'), (2, 'two')]"
      ]
     },
     "execution_count": 69,
     "metadata": {},
     "output_type": "execute_result"
    }
   ],
   "source": [
    "pairs = [(1, 'one'), (2, 'two'), (3, 'three'), (4, 'four')]\n",
    "pairs.sort(key=lambda pair: pair[1])\n",
    "pairs"
   ]
  },
  {
   "cell_type": "markdown",
   "id": "fb5e484c",
   "metadata": {},
   "source": [
    "### 4.8.7. Documentation Strings"
   ]
  },
  {
   "cell_type": "code",
   "execution_count": 70,
   "id": "a7b420a9",
   "metadata": {},
   "outputs": [
    {
     "name": "stdout",
     "output_type": "stream",
     "text": [
      "Do nothing, but document it.\n",
      "\n",
      "    No, really, it doesn't do anything.\n",
      "    \n"
     ]
    }
   ],
   "source": [
    "def my_function():\n",
    "    \"\"\"Do nothing, but document it.\n",
    "\n",
    "    No, really, it doesn't do anything.\n",
    "    \"\"\"\n",
    "    pass\n",
    "\n",
    "print(my_function.__doc__)"
   ]
  },
  {
   "cell_type": "markdown",
   "id": "31529a96",
   "metadata": {},
   "source": [
    "### 4.8.8. Function Annotations"
   ]
  },
  {
   "cell_type": "code",
   "execution_count": 75,
   "id": "a4a36b76",
   "metadata": {},
   "outputs": [
    {
     "name": "stdout",
     "output_type": "stream",
     "text": [
      "Annotations: {'ham': <class 'str'>, 'eggs': <class 'str'>, 'return': <class 'str'>}\n",
      "Arguments: spam eggs\n"
     ]
    },
    {
     "data": {
      "text/plain": [
       "'spam and eggs'"
      ]
     },
     "execution_count": 75,
     "metadata": {},
     "output_type": "execute_result"
    }
   ],
   "source": [
    "def f(ham: str, eggs: str = 'eggs') -> str:\n",
    "    print(\"Annotations:\", f.__annotations__)\n",
    "    print(\"Arguments:\", ham, eggs)\n",
    "    return ham + ' and ' + eggs\n",
    "\n",
    "f('spam')"
   ]
  },
  {
   "cell_type": "markdown",
   "id": "de27fd82",
   "metadata": {},
   "source": [
    "## 4.9. Intermezzo: Coding Style"
   ]
  },
  {
   "cell_type": "markdown",
   "id": "ae2d0c27",
   "metadata": {},
   "source": [
    "[style guide for python code](https://peps.python.org/pep-0008/)"
   ]
  }
 ],
 "metadata": {
  "kernelspec": {
   "display_name": "Python 3 (ipykernel)",
   "language": "python",
   "name": "python3"
  },
  "language_info": {
   "codemirror_mode": {
    "name": "ipython",
    "version": 3
   },
   "file_extension": ".py",
   "mimetype": "text/x-python",
   "name": "python",
   "nbconvert_exporter": "python",
   "pygments_lexer": "ipython3",
   "version": "3.11.3"
  }
 },
 "nbformat": 4,
 "nbformat_minor": 5
}
