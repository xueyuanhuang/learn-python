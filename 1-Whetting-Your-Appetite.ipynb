{
 "cells": [
  {
   "cell_type": "markdown",
   "id": "ad37bfd0",
   "metadata": {},
   "source": [
    "just talking about the usage of how to use python, but seems not whetting my yet, cuz some words couldn't understand"
   ]
  }
 ],
 "metadata": {
  "kernelspec": {
   "display_name": "Python 3 (ipykernel)",
   "language": "python",
   "name": "python3"
  },
  "language_info": {
   "codemirror_mode": {
    "name": "ipython",
    "version": 3
   },
   "file_extension": ".py",
   "mimetype": "text/x-python",
   "name": "python",
   "nbconvert_exporter": "python",
   "pygments_lexer": "ipython3",
   "version": "3.11.3"
  }
 },
 "nbformat": 4,
 "nbformat_minor": 5
}
