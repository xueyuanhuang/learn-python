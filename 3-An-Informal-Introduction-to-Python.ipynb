{
 "cells": [
  {
   "cell_type": "markdown",
   "id": "12666e2e",
   "metadata": {},
   "source": [
    "## 3.1. Calculator"
   ]
  },
  {
   "cell_type": "markdown",
   "id": "f47c8942",
   "metadata": {},
   "source": [
    "### 3.1.1. number"
   ]
  },
  {
   "cell_type": "markdown",
   "id": "17aaffe5",
   "metadata": {},
   "source": [
    "```python\n",
    "+\n",
    "-\n",
    "*\n",
    "/\n",
    "// # floor division\n",
    "%  # remainder of the division\n",
    "2 ** 7 # 2 to the power of 7 / 2^7 \n",
    "2 + _  # _ means previous result, a = 2 * 3 does't count\n",
    "round(_, 2) # round previous result behind 2 digital numbers of point\n",
    "```"
   ]
  },
  {
   "cell_type": "markdown",
   "id": "2250da92",
   "metadata": {},
   "source": []
  }
 ],
 "metadata": {
  "kernelspec": {
   "display_name": "Python 3 (ipykernel)",
   "language": "python",
   "name": "python3"
  },
  "language_info": {
   "codemirror_mode": {
    "name": "ipython",
    "version": 3
   },
   "file_extension": ".py",
   "mimetype": "text/x-python",
   "name": "python",
   "nbconvert_exporter": "python",
   "pygments_lexer": "ipython3",
   "version": "3.11.3"
  }
 },
 "nbformat": 4,
 "nbformat_minor": 5
}
