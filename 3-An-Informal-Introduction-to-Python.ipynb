{
 "cells": [
  {
   "cell_type": "markdown",
   "id": "12666e2e",
   "metadata": {},
   "source": [
    "## 3.1. Calculator"
   ]
  },
  {
   "cell_type": "markdown",
   "id": "f47c8942",
   "metadata": {},
   "source": [
    "### 3.1.1. number"
   ]
  },
  {
   "cell_type": "markdown",
   "id": "17aaffe5",
   "metadata": {},
   "source": [
    "```python\n",
    "+\n",
    "-\n",
    "*\n",
    "/\n",
    "// # floor division\n",
    "%  # remainder of the division\n",
    "2 ** 7 # 2 to the power of 7 / 2^7 \n",
    "2 + _  # _ means previous result, a = 2 * 3 does't count\n",
    "round(_, 2) # round previous result behind 2 digital numbers of point\n",
    "```"
   ]
  },
  {
   "cell_type": "markdown",
   "id": "8d62506e",
   "metadata": {},
   "source": [
    "### 3.1.2. Text"
   ]
  },
  {
   "cell_type": "markdown",
   "id": "fcbeb5b2",
   "metadata": {},
   "source": [
    "quote a quote\n",
    "```python\n",
    "'doesn\\'t'\n",
    "\"doesn't\"\n",
    "```"
   ]
  },
  {
   "attachments": {
    "image.png": {
     "image/png": "[encoded data removed]"
    }
   },
   "cell_type": "markdown",
   "id": "22f77e80",
   "metadata": {},
   "source": [
    "print()\n",
    "```python\n",
    "s = first line.\\nsecond line.\n",
    "s\n",
    "print(s)\n",
    "```\n",
    "two res are different\n",
    "![image.png](attachment:image.png)"
   ]
  },
  {
   "cell_type": "markdown",
   "id": "1cb212d5",
   "metadata": {},
   "source": [
    "raw string\n",
    "```python\n",
    ">>> print('C:\\some\\name')\n",
    "C:\\some\n",
    "ame\n",
    ">>> print(r'C:\\some\\name')\n",
    "C:\\some\\name\n",
    "```"
   ]
  },
  {
   "cell_type": "markdown",
   "id": "9363070d",
   "metadata": {},
   "source": [
    "triple-quotes"
   ]
  },
  {
   "cell_type": "code",
   "execution_count": 7,
   "id": "d2ac819a",
   "metadata": {},
   "outputs": [
    {
     "name": "stdout",
     "output_type": "stream",
     "text": [
      "Usage: thingy [OPTIONS]\n",
      "     -h                        Display this usage message\n",
      "     -H hostname               Hostname to connect to\n",
      "\n"
     ]
    }
   ],
   "source": [
    "print(\"\"\"\\\n",
    "Usage: thingy [OPTIONS]\n",
    "     -h                        Display this usage message\n",
    "     -H hostname               Hostname to connect to\n",
    "\"\"\")"
   ]
  },
  {
   "cell_type": "markdown",
   "id": "044e872b",
   "metadata": {},
   "source": [
    "\\* repeat, + concate"
   ]
  },
  {
   "cell_type": "code",
   "execution_count": 9,
   "id": "d423a758",
   "metadata": {},
   "outputs": [
    {
     "data": {
      "text/plain": [
       "'hhhhhhhhhha'"
      ]
     },
     "execution_count": 9,
     "metadata": {},
     "output_type": "execute_result"
    }
   ],
   "source": [
    "'h'*10 + 'a'"
   ]
  },
  {
   "cell_type": "markdown",
   "id": "f1bf9f2f",
   "metadata": {},
   "source": [
    "concate automatically, useful to break a long sentence"
   ]
  },
  {
   "cell_type": "code",
   "execution_count": 12,
   "id": "8a147d55",
   "metadata": {},
   "outputs": [
    {
     "data": {
      "text/plain": [
       "'hwhy'"
      ]
     },
     "execution_count": 12,
     "metadata": {},
     "output_type": "execute_result"
    }
   ],
   "source": [
    "'h''why'"
   ]
  },
  {
   "cell_type": "code",
   "execution_count": 16,
   "id": "ed094db6",
   "metadata": {},
   "outputs": [
    {
     "data": {
      "text/plain": [
       "\"hug make him growth, let one's warmth transfer to another's chest\""
      ]
     },
     "execution_count": 16,
     "metadata": {},
     "output_type": "execute_result"
    }
   ],
   "source": [
    "text = ('hug make him growth, '\n",
    "       'let one\\'s warmth transfer to another\\'s chest')\n",
    "text"
   ]
  },
  {
   "cell_type": "code",
   "execution_count": 21,
   "id": "ec306c22",
   "metadata": {},
   "outputs": [
    {
     "name": "stdout",
     "output_type": "stream",
     "text": [
      "damn! that's song right?uh, true, just from what I heard from my earphone...\n"
     ]
    }
   ],
   "source": [
    "print(\"damn! \" \n",
    "\"that's song right?\" \n",
    "\"uh, true, just from what I heard from my earphone...\")"
   ]
  },
  {
   "cell_type": "code",
   "execution_count": 27,
   "id": "044df840",
   "metadata": {},
   "outputs": [
    {
     "ename": "SyntaxError",
     "evalue": "invalid syntax (1496022976.py, line 1)",
     "output_type": "error",
     "traceback": [
      "\u001b[1;36m  Cell \u001b[1;32mIn[27], line 1\u001b[1;36m\u001b[0m\n\u001b[1;33m    text \"that's song right...\" # works only for literals not for variable\u001b[0m\n\u001b[1;37m         ^\u001b[0m\n\u001b[1;31mSyntaxError\u001b[0m\u001b[1;31m:\u001b[0m invalid syntax\n"
     ]
    }
   ],
   "source": [
    "text \"that's song right...\" # works only for literals not for variable"
   ]
  },
  {
   "cell_type": "code",
   "execution_count": 26,
   "id": "4b0b3f54",
   "metadata": {},
   "outputs": [
    {
     "ename": "SyntaxError",
     "evalue": "invalid syntax (253674821.py, line 1)",
     "output_type": "error",
     "traceback": [
      "\u001b[1;36m  Cell \u001b[1;32mIn[26], line 1\u001b[1;36m\u001b[0m\n\u001b[1;33m    ('h'*3) \"damn\"\u001b[0m\n\u001b[1;37m            ^\u001b[0m\n\u001b[1;31mSyntaxError\u001b[0m\u001b[1;31m:\u001b[0m invalid syntax\n"
     ]
    }
   ],
   "source": [
    "('h'*3) \"damn\" # not for expression"
   ]
  },
  {
   "cell_type": "code",
   "execution_count": 28,
   "id": "29054722",
   "metadata": {},
   "outputs": [
    {
     "data": {
      "text/plain": [
       "'hhhhhhh'"
      ]
     },
     "execution_count": 28,
     "metadata": {},
     "output_type": "execute_result"
    }
   ],
   "source": [
    "'h'*3 + 'h'*4"
   ]
  },
  {
   "cell_type": "code",
   "execution_count": 33,
   "id": "8af57835",
   "metadata": {},
   "outputs": [
    {
     "data": {
      "text/plain": [
       "'happy someone ask me where to play'"
      ]
     },
     "execution_count": 33,
     "metadata": {},
     "output_type": "execute_result"
    }
   ],
   "source": [
    "words = 'you'*4 + 'jump'*4\n",
    "say = (\"happy \"\n",
    "      \"someone ask me where to play\")\n",
    "say"
   ]
  },
  {
   "cell_type": "code",
   "execution_count": 34,
   "id": "6db9d502",
   "metadata": {},
   "outputs": [
    {
     "data": {
      "text/plain": [
       "'h'"
      ]
     },
     "execution_count": 34,
     "metadata": {},
     "output_type": "execute_result"
    }
   ],
   "source": [
    "say[0]"
   ]
  },
  {
   "cell_type": "code",
   "execution_count": 35,
   "id": "e33471b9",
   "metadata": {},
   "outputs": [
    {
     "data": {
      "text/plain": [
       "'y'"
      ]
     },
     "execution_count": 35,
     "metadata": {},
     "output_type": "execute_result"
    }
   ],
   "source": [
    "say[-1]"
   ]
  },
  {
   "cell_type": "markdown",
   "id": "e1169f2b",
   "metadata": {},
   "source": [
    "slicing"
   ]
  },
  {
   "cell_type": "code",
   "execution_count": 36,
   "id": "e0144f3b",
   "metadata": {},
   "outputs": [
    {
     "data": {
      "text/plain": [
       "'happy someone ask me where to pla'"
      ]
     },
     "execution_count": 36,
     "metadata": {},
     "output_type": "execute_result"
    }
   ],
   "source": [
    "say[0:-1]"
   ]
  },
  {
   "cell_type": "code",
   "execution_count": 37,
   "id": "bf981925",
   "metadata": {},
   "outputs": [
    {
     "data": {
      "text/plain": [
       "'happy someone ask me where to play'"
      ]
     },
     "execution_count": 37,
     "metadata": {},
     "output_type": "execute_result"
    }
   ],
   "source": [
    "say[0:]"
   ]
  },
  {
   "cell_type": "code",
   "execution_count": 39,
   "id": "66200037",
   "metadata": {},
   "outputs": [
    {
     "data": {
      "text/plain": [
       "'happy someone ask me where to pla'"
      ]
     },
     "execution_count": 39,
     "metadata": {},
     "output_type": "execute_result"
    }
   ],
   "source": [
    "say[:-1]"
   ]
  },
  {
   "cell_type": "code",
   "execution_count": 40,
   "id": "e1fff023",
   "metadata": {},
   "outputs": [
    {
     "data": {
      "text/plain": [
       "'happy someone ask me where to play'"
      ]
     },
     "execution_count": 40,
     "metadata": {},
     "output_type": "execute_result"
    }
   ],
   "source": [
    "say[:]"
   ]
  },
  {
   "cell_type": "code",
   "execution_count": 41,
   "id": "e37d6754",
   "metadata": {},
   "outputs": [
    {
     "data": {
      "text/plain": [
       "'yalp ot erehw em ksa enoemos yppah'"
      ]
     },
     "execution_count": 41,
     "metadata": {},
     "output_type": "execute_result"
    }
   ],
   "source": [
    "say[::-1]"
   ]
  },
  {
   "cell_type": "code",
   "execution_count": 43,
   "id": "efbc1067",
   "metadata": {},
   "outputs": [
    {
     "data": {
      "text/plain": [
       "'happy someone ask me where to play'"
      ]
     },
     "execution_count": 43,
     "metadata": {},
     "output_type": "execute_result"
    }
   ],
   "source": [
    "say[:4] + say[4:]"
   ]
  },
  {
   "cell_type": "code",
   "execution_count": 44,
   "id": "75711e65",
   "metadata": {},
   "outputs": [
    {
     "ename": "IndexError",
     "evalue": "string index out of range",
     "output_type": "error",
     "traceback": [
      "\u001b[1;31m---------------------------------------------------------------------------\u001b[0m",
      "\u001b[1;31mIndexError\u001b[0m                                Traceback (most recent call last)",
      "Cell \u001b[1;32mIn[44], line 1\u001b[0m\n\u001b[1;32m----> 1\u001b[0m say[\u001b[38;5;241m42\u001b[39m]\n",
      "\u001b[1;31mIndexError\u001b[0m: string index out of range"
     ]
    }
   ],
   "source": [
    "say[42]"
   ]
  },
  {
   "cell_type": "code",
   "execution_count": 45,
   "id": "39bd9ce5",
   "metadata": {},
   "outputs": [
    {
     "data": {
      "text/plain": [
       "'e ask me where to play'"
      ]
     },
     "execution_count": 45,
     "metadata": {},
     "output_type": "execute_result"
    }
   ],
   "source": [
    "say[12:42]"
   ]
  },
  {
   "cell_type": "code",
   "execution_count": 46,
   "id": "fd915fee",
   "metadata": {},
   "outputs": [
    {
     "data": {
      "text/plain": [
       "''"
      ]
     },
     "execution_count": 46,
     "metadata": {},
     "output_type": "execute_result"
    }
   ],
   "source": [
    "say[42:]"
   ]
  },
  {
   "cell_type": "markdown",
   "id": "4c53b0d1",
   "metadata": {},
   "source": [
    "immutable"
   ]
  },
  {
   "cell_type": "code",
   "execution_count": 47,
   "id": "63067e47",
   "metadata": {},
   "outputs": [
    {
     "ename": "TypeError",
     "evalue": "'str' object does not support item assignment",
     "output_type": "error",
     "traceback": [
      "\u001b[1;31m---------------------------------------------------------------------------\u001b[0m",
      "\u001b[1;31mTypeError\u001b[0m                                 Traceback (most recent call last)",
      "Cell \u001b[1;32mIn[47], line 1\u001b[0m\n\u001b[1;32m----> 1\u001b[0m say[\u001b[38;5;241m42\u001b[39m:] \u001b[38;5;241m=\u001b[39m \u001b[38;5;124m\"\u001b[39m\u001b[38;5;124mconquest\u001b[39m\u001b[38;5;124m\"\u001b[39m\n",
      "\u001b[1;31mTypeError\u001b[0m: 'str' object does not support item assignment"
     ]
    }
   ],
   "source": [
    "say[42:] = \"conquest\""
   ]
  },
  {
   "cell_type": "code",
   "execution_count": 48,
   "id": "23be6f42",
   "metadata": {},
   "outputs": [
    {
     "data": {
      "text/plain": [
       "10"
      ]
     },
     "execution_count": 48,
     "metadata": {},
     "output_type": "execute_result"
    }
   ],
   "source": [
    "len('s'*10)"
   ]
  },
  {
   "cell_type": "markdown",
   "id": "0ad231ac",
   "metadata": {},
   "source": [
    "### 3.1.3 List"
   ]
  },
  {
   "cell_type": "code",
   "execution_count": 49,
   "id": "54ac2778",
   "metadata": {},
   "outputs": [
    {
     "data": {
      "text/plain": [
       "[1, 2, 3, 4, 5, 6]"
      ]
     },
     "execution_count": 49,
     "metadata": {},
     "output_type": "execute_result"
    }
   ],
   "source": [
    "[1,2,3] + [4,5,6]"
   ]
  },
  {
   "cell_type": "markdown",
   "id": "39b81fe0",
   "metadata": {},
   "source": [
    "difference between shallow copy and deep copy:\n",
    "\n",
    "shallow copy is the reference, it can change origial values\n",
    "\n",
    "deep copy copy everything, it can't change original values via slice value"
   ]
  },
  {
   "cell_type": "markdown",
   "id": "51fb640a",
   "metadata": {},
   "source": [
    "list slicing is a shallow copy"
   ]
  },
  {
   "cell_type": "code",
   "execution_count": 50,
   "id": "ee30e1f6",
   "metadata": {},
   "outputs": [],
   "source": [
    "cube = [1**3, 2**3, 3**3, 65]"
   ]
  },
  {
   "cell_type": "code",
   "execution_count": 51,
   "id": "5e406bd0",
   "metadata": {},
   "outputs": [
    {
     "data": {
      "text/plain": [
       "[1, 8, 27, 65]"
      ]
     },
     "execution_count": 51,
     "metadata": {},
     "output_type": "execute_result"
    }
   ],
   "source": [
    "cube"
   ]
  },
  {
   "cell_type": "code",
   "execution_count": 54,
   "id": "8760c168",
   "metadata": {},
   "outputs": [],
   "source": [
    "cube[-1] = 4**3"
   ]
  },
  {
   "cell_type": "code",
   "execution_count": 55,
   "id": "cee7f46d",
   "metadata": {},
   "outputs": [
    {
     "data": {
      "text/plain": [
       "[1, 8, 27, 64]"
      ]
     },
     "execution_count": 55,
     "metadata": {},
     "output_type": "execute_result"
    }
   ],
   "source": [
    "cube"
   ]
  },
  {
   "cell_type": "code",
   "execution_count": 56,
   "id": "0a4e5cb7",
   "metadata": {},
   "outputs": [
    {
     "data": {
      "text/plain": [
       "[1, 8, 27, 64, 125]"
      ]
     },
     "execution_count": 56,
     "metadata": {},
     "output_type": "execute_result"
    }
   ],
   "source": [
    "cube.append(5**3)\n",
    "cube"
   ]
  },
  {
   "cell_type": "code",
   "execution_count": 57,
   "id": "9df4d4a7",
   "metadata": {},
   "outputs": [
    {
     "data": {
      "text/plain": [
       "[]"
      ]
     },
     "execution_count": 57,
     "metadata": {},
     "output_type": "execute_result"
    }
   ],
   "source": [
    "cube[:] = []\n",
    "cube"
   ]
  },
  {
   "cell_type": "markdown",
   "id": "c26e6602",
   "metadata": {},
   "source": [
    "nest list"
   ]
  },
  {
   "cell_type": "code",
   "execution_count": 61,
   "id": "8835ea83",
   "metadata": {},
   "outputs": [],
   "source": [
    "nest_list = [[[[1],2]]]"
   ]
  },
  {
   "cell_type": "code",
   "execution_count": 66,
   "id": "78193f22",
   "metadata": {},
   "outputs": [
    {
     "data": {
      "text/plain": [
       "[1]"
      ]
     },
     "execution_count": 66,
     "metadata": {},
     "output_type": "execute_result"
    }
   ],
   "source": [
    "nest_list[0][0][0]"
   ]
  },
  {
   "cell_type": "markdown",
   "id": "02cb2fc7",
   "metadata": {},
   "source": [
    " Fibonacci series:multiple assignments, "
   ]
  },
  {
   "cell_type": "code",
   "execution_count": 72,
   "id": "2c811bc1",
   "metadata": {},
   "outputs": [
    {
     "name": "stdout",
     "output_type": "stream",
     "text": [
      "0\n",
      "1\n",
      "1\n",
      "2\n",
      "3\n",
      "5\n",
      "8\n"
     ]
    }
   ],
   "source": [
    "a, b = 0, 1\n",
    "while a < 10:\n",
    "    print(a)\n",
    "    a, b = b, a+b"
   ]
  },
  {
   "cell_type": "code",
   "execution_count": 75,
   "id": "e1f4e792",
   "metadata": {},
   "outputs": [
    {
     "data": {
      "text/plain": [
       "True"
      ]
     },
     "execution_count": 75,
     "metadata": {},
     "output_type": "execute_result"
    }
   ],
   "source": [
    "bool([1]*10)"
   ]
  },
  {
   "cell_type": "code",
   "execution_count": 76,
   "id": "be9f5ceb",
   "metadata": {},
   "outputs": [
    {
     "data": {
      "text/plain": [
       "True"
      ]
     },
     "execution_count": 76,
     "metadata": {},
     "output_type": "execute_result"
    }
   ],
   "source": [
    "bool(\"hey\")"
   ]
  },
  {
   "cell_type": "code",
   "execution_count": 78,
   "id": "71ac3456",
   "metadata": {},
   "outputs": [
    {
     "name": "stdout",
     "output_type": "stream",
     "text": [
      "the value of 13  is  13\n"
     ]
    }
   ],
   "source": [
    "print(\"the value of\", a, \" is \", a)"
   ]
  },
  {
   "cell_type": "markdown",
   "id": "7540903d",
   "metadata": {},
   "source": [
    "print() keyword:end"
   ]
  },
  {
   "cell_type": "code",
   "execution_count": 80,
   "id": "878b7e48",
   "metadata": {},
   "outputs": [
    {
     "name": "stdout",
     "output_type": "stream",
     "text": [
      "0,\n",
      "1,\n",
      "1,\n",
      "2,\n",
      "3,\n",
      "5,\n",
      "8,\n"
     ]
    }
   ],
   "source": [
    "a, b = 0, 1\n",
    "while a < 10:\n",
    "    print(a, end=',\\n')\n",
    "    a, b = b, a+b"
   ]
  }
 ],
 "metadata": {
  "kernelspec": {
   "display_name": "Python 3 (ipykernel)",
   "language": "python",
   "name": "python3"
  },
  "language_info": {
   "codemirror_mode": {
    "name": "ipython",
    "version": 3
   },
   "file_extension": ".py",
   "mimetype": "text/x-python",
   "name": "python",
   "nbconvert_exporter": "python",
   "pygments_lexer": "ipython3",
   "version": "3.11.3"
  }
 },
 "nbformat": 4,
 "nbformat_minor": 5
}
