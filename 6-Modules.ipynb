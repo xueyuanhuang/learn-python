{
 "cells": [
  {
   "cell_type": "code",
   "execution_count": 3,
   "id": "2b07df55-d4cc-47e9-8bf6-5376524c4541",
   "metadata": {},
   "outputs": [
    {
     "name": "stdout",
     "output_type": "stream",
     "text": [
      "0 1 1 2 3 5 8 13 21 34 55 89 144 233 377 610 987 \n"
     ]
    },
    {
     "data": {
      "text/plain": [
       "'fibo'"
      ]
     },
     "execution_count": 3,
     "metadata": {},
     "output_type": "execute_result"
    }
   ],
   "source": [
    "import fibo\n",
    "fibo.fib(1000)\n",
    "fibo.fib2(100)\n",
    "fibo.__name__"
   ]
  },
  {
   "cell_type": "markdown",
   "id": "b39eb3ac-cf19-4f3a-99cb-3e985ab05b5b",
   "metadata": {},
   "source": [
    "use a function often assign a local name"
   ]
  },
  {
   "cell_type": "code",
   "execution_count": 4,
   "id": "6c86337f-bd86-4a0e-b3a3-397b8b61c64a",
   "metadata": {},
   "outputs": [
    {
     "name": "stdout",
     "output_type": "stream",
     "text": [
      "0 1 1 2 3 5 8 13 21 34 55 89 144 233 377 \n"
     ]
    }
   ],
   "source": [
    "fib = fibo.fib\n",
    "fib(500)"
   ]
  },
  {
   "cell_type": "code",
   "execution_count": null,
   "id": "162ab131-bb4d-461f-865d-7ae13828a9a2",
   "metadata": {},
   "outputs": [],
   "source": []
  }
 ],
 "metadata": {
  "kernelspec": {
   "display_name": "Python 3 (ipykernel)",
   "language": "python",
   "name": "python3"
  },
  "language_info": {
   "codemirror_mode": {
    "name": "ipython",
    "version": 3
   },
   "file_extension": ".py",
   "mimetype": "text/x-python",
   "name": "python",
   "nbconvert_exporter": "python",
   "pygments_lexer": "ipython3",
   "version": "3.12.0"
  }
 },
 "nbformat": 4,
 "nbformat_minor": 5
}
