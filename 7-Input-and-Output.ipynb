{
 "cells": [
  {
   "cell_type": "markdown",
   "id": "068181cb-ef68-47bb-b3f9-af738fbee1ed",
   "metadata": {},
   "source": [
    "## 7.1. Fancier Output Formatting"
   ]
  },
  {
   "cell_type": "code",
   "execution_count": 1,
   "id": "2b19262f-543b-4740-90d5-cd6d5234b223",
   "metadata": {},
   "outputs": [
    {
     "data": {
      "text/plain": [
       "'results of the 2016 Referendum'"
      ]
     },
     "execution_count": 1,
     "metadata": {},
     "output_type": "execute_result"
    }
   ],
   "source": [
    "year = 2016\n",
    "event = 'Referendum'\n",
    "f'results of the {year} {event}'"
   ]
  },
  {
   "cell_type": "code",
   "execution_count": 2,
   "id": "3fa0a2e8-5fac-4f30-8f21-9a72679cc780",
   "metadata": {},
   "outputs": [
    {
     "data": {
      "text/plain": [
       "' 42572654 YES votes 49.67%'"
      ]
     },
     "execution_count": 2,
     "metadata": {},
     "output_type": "execute_result"
    }
   ],
   "source": [
    "yes_votes = 42_572_654\n",
    "no_votes = 43_132_495\n",
    "percentage = yes_votes / (yes_votes + no_votes)\n",
    "'{:-9} YES votes {:2.2%}'.format(yes_votes, percentage)"
   ]
  },
  {
   "cell_type": "code",
   "execution_count": 4,
   "id": "afe4a72e-b9ae-4439-963a-067de9e8a1b0",
   "metadata": {},
   "outputs": [
    {
     "data": {
      "text/plain": [
       "'Hello World.'"
      ]
     },
     "execution_count": 4,
     "metadata": {},
     "output_type": "execute_result"
    }
   ],
   "source": [
    "s = 'Hello World.'\n",
    "str(s)"
   ]
  },
  {
   "cell_type": "code",
   "execution_count": 5,
   "id": "fdc8e7d3-4c37-43e6-9820-0d1cdaa6e81c",
   "metadata": {},
   "outputs": [
    {
     "data": {
      "text/plain": [
       "\"'Hello World.'\""
      ]
     },
     "execution_count": 5,
     "metadata": {},
     "output_type": "execute_result"
    }
   ],
   "source": [
    "repr(s)"
   ]
  },
  {
   "cell_type": "code",
   "execution_count": 6,
   "id": "cdae17a8-1e1f-49b2-ac28-7d7b940c2409",
   "metadata": {},
   "outputs": [
    {
     "name": "stdout",
     "output_type": "stream",
     "text": [
      "The value of x is 32.5, and y is 40000...\n"
     ]
    }
   ],
   "source": [
    "x = 10 * 3.25\n",
    "y = 200 * 200\n",
    "s = 'The value of x is ' + repr(x) + ', and y is ' + repr(y) + '...'\n",
    "print(s)"
   ]
  },
  {
   "cell_type": "code",
   "execution_count": 7,
   "id": "04188eab-29bc-4e01-978f-ed708c71a02b",
   "metadata": {},
   "outputs": [
    {
     "name": "stdout",
     "output_type": "stream",
     "text": [
      "'hello, world\\n'\n"
     ]
    }
   ],
   "source": [
    "hello = 'hello, world\\n'\n",
    "hellos = repr(hello)\n",
    "print(hellos)"
   ]
  },
  {
   "cell_type": "code",
   "execution_count": 8,
   "id": "225443ae-a089-42a0-881e-8bb35bf41118",
   "metadata": {},
   "outputs": [
    {
     "data": {
      "text/plain": [
       "\"(32.5, 40000, ('spam', 'eggs'))\""
      ]
     },
     "execution_count": 8,
     "metadata": {},
     "output_type": "execute_result"
    }
   ],
   "source": [
    "repr((x,y,('spam', 'eggs')))"
   ]
  },
  {
   "cell_type": "markdown",
   "id": "07f3e358-6a8e-4d59-9f19-9b6180d24d9c",
   "metadata": {},
   "source": [
    "### 7.1.1. Formatted String Literals"
   ]
  },
  {
   "cell_type": "code",
   "execution_count": 1,
   "id": "8f2b9732-de9f-448d-8cfc-46f2464c51cb",
   "metadata": {},
   "outputs": [
    {
     "name": "stdout",
     "output_type": "stream",
     "text": [
      "The value of pi is approximately 3.142.\n"
     ]
    }
   ],
   "source": [
    "import math\n",
    "print(f'The value of pi is approximately {math.pi:.3f}.')"
   ]
  },
  {
   "cell_type": "code",
   "execution_count": 17,
   "id": "97f06623-4c86-46e2-ae25-0eb84f3155ac",
   "metadata": {},
   "outputs": [
    {
     "name": "stdout",
     "output_type": "stream",
     "text": [
      "    Sjoerd ==> 4127      \n",
      "      Jack ==> 4098      \n",
      "      Dcab ==> 7678      \n"
     ]
    }
   ],
   "source": [
    "table = {'Sjoerd': 4127, 'Jack': 4098, 'Dcab': 7678}\n",
    "for name, number in table.items():\n",
    "    print(f'{name:>10} ==> {number:<10d}')"
   ]
  },
  {
   "cell_type": "code",
   "execution_count": 18,
   "id": "dc00b934-9f44-462e-8a48-b83b92465798",
   "metadata": {},
   "outputs": [
    {
     "name": "stdout",
     "output_type": "stream",
     "text": [
      "My hovercraft is full of eels.\n"
     ]
    }
   ],
   "source": [
    "animals = 'eels'\n",
    "print(f'My hovercraft is full of {animals}.')"
   ]
  },
  {
   "cell_type": "code",
   "execution_count": 19,
   "id": "e01702c3-aec7-4880-91d9-4b6ea8fc7797",
   "metadata": {},
   "outputs": [
    {
     "name": "stdout",
     "output_type": "stream",
     "text": [
      "My hovercraft is full of 'eels'.\n"
     ]
    }
   ],
   "source": [
    "animals = 'eels'\n",
    "print(f'My hovercraft is full of {animals!a}.')"
   ]
  },
  {
   "cell_type": "code",
   "execution_count": 20,
   "id": "8a8e7af1-2969-43fd-be8f-755f18ee072e",
   "metadata": {},
   "outputs": [
    {
     "name": "stdout",
     "output_type": "stream",
     "text": [
      "My hovercraft is full of 'eels'.\n"
     ]
    }
   ],
   "source": [
    "animals = 'eels'\n",
    "print(f'My hovercraft is full of {animals!r}.')"
   ]
  },
  {
   "cell_type": "code",
   "execution_count": 21,
   "id": "86b736dc-a3f7-403e-8568-24b46dbcc334",
   "metadata": {},
   "outputs": [
    {
     "name": "stdout",
     "output_type": "stream",
     "text": [
      "My hovercraft is full of eels.\n"
     ]
    }
   ],
   "source": [
    "animals = 'eels'\n",
    "print(f'My hovercraft is full of {animals!s}.')"
   ]
  },
  {
   "cell_type": "code",
   "execution_count": 22,
   "id": "213d005e-0915-40a3-9526-5883bf52bd77",
   "metadata": {},
   "outputs": [
    {
     "name": "stdout",
     "output_type": "stream",
     "text": [
      "Debugging bugs='roaches' count=13 area='living room'\n"
     ]
    }
   ],
   "source": [
    "bugs = 'roaches'\n",
    "count = 13\n",
    "area = 'living room'\n",
    "print(f'Debugging {bugs=} {count=} {area=}')"
   ]
  },
  {
   "cell_type": "markdown",
   "id": "a5843aaf-c364-4e44-b143-ea8f134e256a",
   "metadata": {},
   "source": [
    "### 7.1.2. The String format() Method"
   ]
  },
  {
   "cell_type": "code",
   "execution_count": 23,
   "id": "00d7c34a-93b3-4cbc-bdeb-ac16abecdc78",
   "metadata": {},
   "outputs": [
    {
     "name": "stdout",
     "output_type": "stream",
     "text": [
      "if we are king who says deon't matter\n"
     ]
    }
   ],
   "source": [
    "print(\"if we are {} who says deon't {}\".format('king','matter'))"
   ]
  },
  {
   "cell_type": "code",
   "execution_count": 24,
   "id": "b1ff8a22-ce8c-448b-9d97-1dd79d62a32c",
   "metadata": {},
   "outputs": [
    {
     "name": "stdout",
     "output_type": "stream",
     "text": [
      "DengKe and wzl\n",
      "wzl and DK\n"
     ]
    }
   ],
   "source": [
    "print(\"{0} and {1}\".format(\"DengKe\", \"wzl\"))\n",
    "print(\"{1} and {0}\".format(\"DK\", \"wzl\"))"
   ]
  },
  {
   "cell_type": "code",
   "execution_count": 25,
   "id": "e04750f3-833e-4d31-9b96-47476771a50b",
   "metadata": {},
   "outputs": [
    {
     "name": "stdout",
     "output_type": "stream",
     "text": [
      "you are right\n"
     ]
    }
   ],
   "source": [
    "print('{sb} are {adj}'.format(sb = \"you\", adj = \"right\"))"
   ]
  },
  {
   "cell_type": "code",
   "execution_count": 26,
   "id": "14ed55cd-0b38-4100-b64b-c660955be4d1",
   "metadata": {},
   "outputs": [
    {
     "name": "stdout",
     "output_type": "stream",
     "text": [
      "positional argument and keyword argument can be arbitrary combined\n"
     ]
    }
   ],
   "source": [
    "print(\"{0} {argument} and {1} {argument} can be arbitrary combined\".format(\"positional\", \"keyword\", argument = \"argument\"))"
   ]
  },
  {
   "cell_type": "code",
   "execution_count": 30,
   "id": "16cc8201-01c5-4642-8489-d62e61d659af",
   "metadata": {},
   "outputs": [
    {
     "name": "stdout",
     "output_type": "stream",
     "text": [
      "Jack: 4098; Sjoerd: 4127; Dcab: 8637678\n"
     ]
    }
   ],
   "source": [
    "table = {'Sjoerd': 4127, 'Jack': 4098, 'Dcab': 8637678}\n",
    "print('Jack: {0[Jack]:d}; Sjoerd: {0[Sjoerd]:d}; '\n",
    "      'Dcab: {0[Dcab]:d}'.format(table))"
   ]
  },
  {
   "cell_type": "code",
   "execution_count": 31,
   "id": "269298d3-ca46-43bb-9165-ef0037b17b76",
   "metadata": {},
   "outputs": [
    {
     "name": "stdout",
     "output_type": "stream",
     "text": [
      "Jack: 4098; Sjoerd: 4127; Dcab: 8637678\n"
     ]
    }
   ],
   "source": [
    "table = {'Sjoerd': 4127, 'Jack': 4098, 'Dcab': 8637678}\n",
    "print('Jack: {Jack:d}; Sjoerd: {Sjoerd:d}; Dcab: {Dcab:d}'.format(**table))"
   ]
  },
  {
   "cell_type": "code",
   "execution_count": 32,
   "id": "a6056034-f38b-4109-86d5-ccb02bc91a0f",
   "metadata": {},
   "outputs": [
    {
     "name": "stdout",
     "output_type": "stream",
     "text": [
      " 0   0    0\n",
      " 1   1    1\n",
      " 2   4    8\n",
      " 3   9   27\n",
      " 4  16   64\n",
      " 5  25  125\n",
      " 6  36  216\n",
      " 7  49  343\n",
      " 8  64  512\n",
      " 9  81  729\n",
      "10 100 1000\n"
     ]
    }
   ],
   "source": [
    "for x in range(11):\n",
    "    print(\"{0:2d} {1:3d} {2:4d}\".format(x, x*x, x*x*x))"
   ]
  },
  {
   "cell_type": "markdown",
   "id": "e7c12ce2-f3c0-45ef-874f-d10e027571ad",
   "metadata": {},
   "source": [
    "### 7.1.3. Manual String Formatting"
   ]
  },
  {
   "cell_type": "code",
   "execution_count": 36,
   "id": "b164e397-6148-441b-9d1d-4ded2de727c2",
   "metadata": {},
   "outputs": [
    {
     "name": "stdout",
     "output_type": "stream",
     "text": [
      " 1   1    1\n",
      " 2   4    8\n",
      " 3   9   27\n",
      " 4  16   64\n",
      " 5  25  125\n",
      " 6  36  216\n",
      " 7  49  343\n",
      " 8  64  512\n",
      " 9  81  729\n",
      "10 100 1000\n"
     ]
    }
   ],
   "source": [
    "for x in range(1, 11):\n",
    "    print(repr(x).rjust(2), repr(x*x).rjust(3), end=' ')\n",
    "    # Note use of 'end' on previous line\n",
    "    print(repr(x*x*x).rjust(4))"
   ]
  },
  {
   "cell_type": "code",
   "execution_count": 37,
   "id": "d067d23f-9033-4b42-aa5e-070e32a15aa2",
   "metadata": {},
   "outputs": [
    {
     "data": {
      "text/plain": [
       "'00012'"
      ]
     },
     "execution_count": 37,
     "metadata": {},
     "output_type": "execute_result"
    }
   ],
   "source": [
    "'12'.zfill(5)"
   ]
  },
  {
   "cell_type": "code",
   "execution_count": 38,
   "id": "12ce0eac-3217-4412-9d2d-1c4424fe4e81",
   "metadata": {},
   "outputs": [
    {
     "data": {
      "text/plain": [
       "'-003.14'"
      ]
     },
     "execution_count": 38,
     "metadata": {},
     "output_type": "execute_result"
    }
   ],
   "source": [
    "'-3.14'.zfill(7)"
   ]
  },
  {
   "cell_type": "code",
   "execution_count": 39,
   "id": "393542be-e32c-45cf-a3d3-91852d876e64",
   "metadata": {},
   "outputs": [
    {
     "data": {
      "text/plain": [
       "'3.14159265359'"
      ]
     },
     "execution_count": 39,
     "metadata": {},
     "output_type": "execute_result"
    }
   ],
   "source": [
    "'3.14159265359'.zfill(5)"
   ]
  },
  {
   "cell_type": "code",
   "execution_count": 40,
   "id": "1ec44a19-55ec-4a8a-9d79-d41d0ea1ec45",
   "metadata": {},
   "outputs": [
    {
     "name": "stdout",
     "output_type": "stream",
     "text": [
      "The value of pi is approximately 3.142.\n"
     ]
    }
   ],
   "source": [
    "import math\n",
    "print('The value of pi is approximately %5.3f.' % math.pi)"
   ]
  },
  {
   "cell_type": "markdown",
   "id": "2e1d98ff-ef61-45fb-839d-0c5234142c77",
   "metadata": {},
   "source": [
    "## 7.2. Reading and Writing Files"
   ]
  },
  {
   "cell_type": "markdown",
   "id": "10d9d002-78b0-4b79-8870-38facc66fb0c",
   "metadata": {},
   "source": [
    "`r` when the file will only be read  \n",
    "`w` for only writing (an existing file with the same name will be erased\n",
    "`a` opens the file for appending  \n",
    "`r+` opens the file for both reading and writing  \n",
    "'r' will be assumed if it’s omitted."
   ]
  },
  {
   "cell_type": "code",
   "execution_count": 41,
   "id": "714f0c94-30cf-46fa-8c76-c75fd8e04cb2",
   "metadata": {},
   "outputs": [],
   "source": [
    "f = open('workfile', 'w', encoding=\"utf-8\")"
   ]
  },
  {
   "cell_type": "code",
   "execution_count": 42,
   "id": "4369c438-3e45-4629-8cff-9541bb614f38",
   "metadata": {},
   "outputs": [],
   "source": [
    "with open('workfile', encoding=\"utf-8\") as f:\n",
    "    read_data = f.read()"
   ]
  },
  {
   "cell_type": "code",
   "execution_count": 43,
   "id": "a62a55f0-1a1b-4cca-beb4-aab51cc83d21",
   "metadata": {},
   "outputs": [
    {
     "data": {
      "text/plain": [
       "True"
      ]
     },
     "execution_count": 43,
     "metadata": {},
     "output_type": "execute_result"
    }
   ],
   "source": [
    "f.closed"
   ]
  },
  {
   "cell_type": "code",
   "execution_count": 44,
   "id": "c244fffd-9182-4aa6-8f3e-eb16cb28369d",
   "metadata": {},
   "outputs": [
    {
     "ename": "ValueError",
     "evalue": "I/O operation on closed file.",
     "output_type": "error",
     "traceback": [
      "\u001b[0;31m---------------------------------------------------------------------------\u001b[0m",
      "\u001b[0;31mValueError\u001b[0m                                Traceback (most recent call last)",
      "Cell \u001b[0;32mIn[44], line 2\u001b[0m\n\u001b[1;32m      1\u001b[0m f\u001b[38;5;241m.\u001b[39mclose()\n\u001b[0;32m----> 2\u001b[0m \u001b[43mf\u001b[49m\u001b[38;5;241;43m.\u001b[39;49m\u001b[43mread\u001b[49m\u001b[43m(\u001b[49m\u001b[43m)\u001b[49m\n",
      "\u001b[0;31mValueError\u001b[0m: I/O operation on closed file."
     ]
    }
   ],
   "source": [
    "f.close()\n",
    "f.read()"
   ]
  },
  {
   "cell_type": "markdown",
   "id": "b70b44dd-c86d-4690-9a1b-0420b57ff2c3",
   "metadata": {},
   "source": [
    "### 7.2.1. Methods of File Objects"
   ]
  },
  {
   "cell_type": "code",
   "execution_count": 47,
   "id": "9588f8d6-3209-4682-806c-75ebb510a761",
   "metadata": {},
   "outputs": [
    {
     "name": "stdout",
     "output_type": "stream",
     "text": [
      "this is a test\n",
      "\n"
     ]
    }
   ],
   "source": [
    "with open('workfile', 'r+', encoding='utf-8') as f:\n",
    "    f.write(\"this is a test\\n\")\n",
    "    print(f.readline())"
   ]
  },
  {
   "cell_type": "code",
   "execution_count": null,
   "id": "4b1fd03d-3d93-4c78-86c0-d98d69f88d5c",
   "metadata": {},
   "outputs": [],
   "source": []
  }
 ],
 "metadata": {
  "kernelspec": {
   "display_name": "Python 3 (ipykernel)",
   "language": "python",
   "name": "python3"
  },
  "language_info": {
   "codemirror_mode": {
    "name": "ipython",
    "version": 3
   },
   "file_extension": ".py",
   "mimetype": "text/x-python",
   "name": "python",
   "nbconvert_exporter": "python",
   "pygments_lexer": "ipython3",
   "version": "3.12.0"
  }
 },
 "nbformat": 4,
 "nbformat_minor": 5
}
