{
 "cells": [
  {
   "cell_type": "markdown",
   "id": "068181cb-ef68-47bb-b3f9-af738fbee1ed",
   "metadata": {},
   "source": [
    "## 7.1. Fancier Output Formatting"
   ]
  },
  {
   "cell_type": "code",
   "execution_count": 1,
   "id": "2b19262f-543b-4740-90d5-cd6d5234b223",
   "metadata": {},
   "outputs": [
    {
     "data": {
      "text/plain": [
       "'results of the 2016 Referendum'"
      ]
     },
     "execution_count": 1,
     "metadata": {},
     "output_type": "execute_result"
    }
   ],
   "source": [
    "year = 2016\n",
    "event = 'Referendum'\n",
    "f'results of the {year} {event}'"
   ]
  },
  {
   "cell_type": "code",
   "execution_count": 2,
   "id": "3fa0a2e8-5fac-4f30-8f21-9a72679cc780",
   "metadata": {},
   "outputs": [
    {
     "data": {
      "text/plain": [
       "' 42572654 YES votes 49.67%'"
      ]
     },
     "execution_count": 2,
     "metadata": {},
     "output_type": "execute_result"
    }
   ],
   "source": [
    "yes_votes = 42_572_654\n",
    "no_votes = 43_132_495\n",
    "percentage = yes_votes / (yes_votes + no_votes)\n",
    "'{:-9} YES votes {:2.2%}'.format(yes_votes, percentage)"
   ]
  },
  {
   "cell_type": "code",
   "execution_count": 4,
   "id": "afe4a72e-b9ae-4439-963a-067de9e8a1b0",
   "metadata": {},
   "outputs": [
    {
     "data": {
      "text/plain": [
       "'Hello World.'"
      ]
     },
     "execution_count": 4,
     "metadata": {},
     "output_type": "execute_result"
    }
   ],
   "source": [
    "s = 'Hello World.'\n",
    "str(s)"
   ]
  },
  {
   "cell_type": "code",
   "execution_count": 5,
   "id": "fdc8e7d3-4c37-43e6-9820-0d1cdaa6e81c",
   "metadata": {},
   "outputs": [
    {
     "data": {
      "text/plain": [
       "\"'Hello World.'\""
      ]
     },
     "execution_count": 5,
     "metadata": {},
     "output_type": "execute_result"
    }
   ],
   "source": [
    "repr(s)"
   ]
  },
  {
   "cell_type": "code",
   "execution_count": 6,
   "id": "cdae17a8-1e1f-49b2-ac28-7d7b940c2409",
   "metadata": {},
   "outputs": [
    {
     "name": "stdout",
     "output_type": "stream",
     "text": [
      "The value of x is 32.5, and y is 40000...\n"
     ]
    }
   ],
   "source": [
    "x = 10 * 3.25\n",
    "y = 200 * 200\n",
    "s = 'The value of x is ' + repr(x) + ', and y is ' + repr(y) + '...'\n",
    "print(s)"
   ]
  },
  {
   "cell_type": "code",
   "execution_count": 7,
   "id": "04188eab-29bc-4e01-978f-ed708c71a02b",
   "metadata": {},
   "outputs": [
    {
     "name": "stdout",
     "output_type": "stream",
     "text": [
      "'hello, world\\n'\n"
     ]
    }
   ],
   "source": [
    "hello = 'hello, world\\n'\n",
    "hellos = repr(hello)\n",
    "print(hellos)"
   ]
  },
  {
   "cell_type": "code",
   "execution_count": 8,
   "id": "225443ae-a089-42a0-881e-8bb35bf41118",
   "metadata": {},
   "outputs": [
    {
     "data": {
      "text/plain": [
       "\"(32.5, 40000, ('spam', 'eggs'))\""
      ]
     },
     "execution_count": 8,
     "metadata": {},
     "output_type": "execute_result"
    }
   ],
   "source": [
    "repr((x,y,('spam', 'eggs')))"
   ]
  },
  {
   "cell_type": "markdown",
   "id": "07f3e358-6a8e-4d59-9f19-9b6180d24d9c",
   "metadata": {},
   "source": [
    "### 7.1.1. Formatted String Literals"
   ]
  },
  {
   "cell_type": "code",
   "execution_count": 1,
   "id": "8f2b9732-de9f-448d-8cfc-46f2464c51cb",
   "metadata": {},
   "outputs": [
    {
     "name": "stdout",
     "output_type": "stream",
     "text": [
      "The value of pi is approximately 3.142.\n"
     ]
    }
   ],
   "source": [
    "import math\n",
    "print(f'The value of pi is approximately {math.pi:.3f}.')"
   ]
  },
  {
   "cell_type": "code",
   "execution_count": 17,
   "id": "97f06623-4c86-46e2-ae25-0eb84f3155ac",
   "metadata": {},
   "outputs": [
    {
     "name": "stdout",
     "output_type": "stream",
     "text": [
      "    Sjoerd ==> 4127      \n",
      "      Jack ==> 4098      \n",
      "      Dcab ==> 7678      \n"
     ]
    }
   ],
   "source": [
    "table = {'Sjoerd': 4127, 'Jack': 4098, 'Dcab': 7678}\n",
    "for name, number in table.items():\n",
    "    print(f'{name:>10} ==> {number:<10d}')"
   ]
  },
  {
   "cell_type": "code",
   "execution_count": 18,
   "id": "dc00b934-9f44-462e-8a48-b83b92465798",
   "metadata": {},
   "outputs": [
    {
     "name": "stdout",
     "output_type": "stream",
     "text": [
      "My hovercraft is full of eels.\n"
     ]
    }
   ],
   "source": [
    "animals = 'eels'\n",
    "print(f'My hovercraft is full of {animals}.')"
   ]
  },
  {
   "cell_type": "code",
   "execution_count": 19,
   "id": "e01702c3-aec7-4880-91d9-4b6ea8fc7797",
   "metadata": {},
   "outputs": [
    {
     "name": "stdout",
     "output_type": "stream",
     "text": [
      "My hovercraft is full of 'eels'.\n"
     ]
    }
   ],
   "source": [
    "animals = 'eels'\n",
    "print(f'My hovercraft is full of {animals!a}.')"
   ]
  },
  {
   "cell_type": "code",
   "execution_count": 20,
   "id": "8a8e7af1-2969-43fd-be8f-755f18ee072e",
   "metadata": {},
   "outputs": [
    {
     "name": "stdout",
     "output_type": "stream",
     "text": [
      "My hovercraft is full of 'eels'.\n"
     ]
    }
   ],
   "source": [
    "animals = 'eels'\n",
    "print(f'My hovercraft is full of {animals!r}.')"
   ]
  },
  {
   "cell_type": "code",
   "execution_count": 21,
   "id": "86b736dc-a3f7-403e-8568-24b46dbcc334",
   "metadata": {},
   "outputs": [
    {
     "name": "stdout",
     "output_type": "stream",
     "text": [
      "My hovercraft is full of eels.\n"
     ]
    }
   ],
   "source": [
    "animals = 'eels'\n",
    "print(f'My hovercraft is full of {animals!s}.')"
   ]
  },
  {
   "cell_type": "code",
   "execution_count": 22,
   "id": "213d005e-0915-40a3-9526-5883bf52bd77",
   "metadata": {},
   "outputs": [
    {
     "name": "stdout",
     "output_type": "stream",
     "text": [
      "Debugging bugs='roaches' count=13 area='living room'\n"
     ]
    }
   ],
   "source": [
    "bugs = 'roaches'\n",
    "count = 13\n",
    "area = 'living room'\n",
    "print(f'Debugging {bugs=} {count=} {area=}')"
   ]
  },
  {
   "cell_type": "markdown",
   "id": "a5843aaf-c364-4e44-b143-ea8f134e256a",
   "metadata": {},
   "source": [
    "### 7.1.2. The String format() Method"
   ]
  },
  {
   "cell_type": "code",
   "execution_count": 23,
   "id": "00d7c34a-93b3-4cbc-bdeb-ac16abecdc78",
   "metadata": {},
   "outputs": [
    {
     "name": "stdout",
     "output_type": "stream",
     "text": [
      "if we are king who says deon't matter\n"
     ]
    }
   ],
   "source": [
    "print(\"if we are {} who says deon't {}\".format('king','matter'))"
   ]
  },
  {
   "cell_type": "code",
   "execution_count": null,
   "id": "b1ff8a22-ce8c-448b-9d97-1dd79d62a32c",
   "metadata": {},
   "outputs": [],
   "source": []
  }
 ],
 "metadata": {
  "kernelspec": {
   "display_name": "Python 3 (ipykernel)",
   "language": "python",
   "name": "python3"
  },
  "language_info": {
   "codemirror_mode": {
    "name": "ipython",
    "version": 3
   },
   "file_extension": ".py",
   "mimetype": "text/x-python",
   "name": "python",
   "nbconvert_exporter": "python",
   "pygments_lexer": "ipython3",
   "version": "3.12.0"
  }
 },
 "nbformat": 4,
 "nbformat_minor": 5
}
